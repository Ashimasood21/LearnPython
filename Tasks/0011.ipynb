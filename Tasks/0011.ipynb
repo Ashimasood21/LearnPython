{
 "cells": [
  {
   "cell_type": "markdown",
   "metadata": {},
   "source": [
    "# Practice Code: 0011\n",
    "\n",
    "**Task:<br><br>\n",
    "There is a pair of  twin children , Ash and Bob, and both of them has parameters a_happy and b_happy.\n",
    "It becomes too confusing to identify them when they in are same mood. \n",
    "So you have to create a program to give result False when they are in same mood and True when not.**\n",
    "\n",
    "Example:<br>\n",
    "children_mood(a_happy=True, b_happy=True) → False<br>\n",
    "children_mood(a_happy=False, b_happy=False) → False<br>\n",
    "children_mood(a_happy=True, b_happy=False) → True\n",
    "\n",
    "\n",
    "««« Send your solution to telegram account @hbabureddy and will be updated as a solution on this page »»»\n",
    "\n",
    "#python #practiceCode #samples #interviewQuestions #collections #algorithm"
   ]
  },
  {
   "cell_type": "code",
   "execution_count": 1,
   "metadata": {},
   "outputs": [
    {
     "name": "stdout",
     "output_type": "stream",
     "text": [
      "True\n",
      "True\n",
      "False\n"
     ]
    }
   ],
   "source": [
    "# By ---> ʀᴏʜɪᴛʜ ᴋᴜᴍᴀʀ\n",
    "a=input()\n",
    "b=input()\n",
    "print(False if a[0]==b[0] else True)"
   ]
  }
 ],
 "metadata": {
  "kernelspec": {
   "display_name": "Python 3",
   "language": "python",
   "name": "python3"
  },
  "language_info": {
   "codemirror_mode": {
    "name": "ipython",
    "version": 3
   },
   "file_extension": ".py",
   "mimetype": "text/x-python",
   "name": "python",
   "nbconvert_exporter": "python",
   "pygments_lexer": "ipython3",
   "version": "3.7.0"
  }
 },
 "nbformat": 4,
 "nbformat_minor": 2
}
