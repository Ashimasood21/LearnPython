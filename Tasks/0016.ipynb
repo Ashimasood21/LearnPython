{
 "cells": [
  {
   "cell_type": "markdown",
   "metadata": {},
   "source": [
    "# Practice Code: 0016\n",
    "\n",
    "**Task:<br><br>\n",
    "You have to create a program where you have to print first 3 letters of a the given word 3 times.\n",
    "If the given input is less then 3 tham print it 3 times as well.\n",
    "\n",
    "input - 'Ad'\n",
    "output - 'AdAdAd'**\n",
    "\n",
    "Example:<br>\n",
    "**Input** : 'Python' ----- **Output**: 'PytPytPyt'<br>\n",
    "**Input** : \"Py\" --------- **Output**: 'PyPyPy'<br>\n",
    "\n",
    "\n",
    "««« Send your solution to telegram account @hbabureddy and will be updated as a solution on this page »»»\n",
    "\n",
    "#python #practiceCode #samples #interviewQuestions #collections #algorithm"
   ]
  },
  {
   "cell_type": "code",
   "execution_count": 6,
   "metadata": {},
   "outputs": [
    {
     "name": "stdout",
     "output_type": "stream",
     "text": [
      "Enter any wordPython\n",
      "PytPytPyt\n"
     ]
    }
   ],
   "source": [
    "# By ---> Billstone McRomans\n",
    "\n",
    "def three_letters():\n",
    "    text = input('Enter any word') \n",
    "    word = text[0:3] * 3\n",
    "    print(word)\n",
    "\n",
    "three_letters()"
   ]
  },
  {
   "cell_type": "code",
   "execution_count": 3,
   "metadata": {},
   "outputs": [
    {
     "name": "stdout",
     "output_type": "stream",
     "text": [
      "PyPyPy\n"
     ]
    }
   ],
   "source": [
    "# By ---> Peter\n",
    "\n",
    "x = \"Py\"\n",
    "y=  (x[0:3])\n",
    "print (y*3)"
   ]
  },
  {
   "cell_type": "code",
   "execution_count": 1,
   "metadata": {},
   "outputs": [
    {
     "name": "stdout",
     "output_type": "stream",
     "text": [
      "Py\n",
      "PyPyPy\n"
     ]
    }
   ],
   "source": [
    "# By ---> ʀᴏʜɪᴛʜ ᴋᴜᴍᴀʀ\n",
    "\n",
    "s=input()\n",
    "print(s*3 if len(s)<=3 else (s[0]+s[1]+s[2])*3)"
   ]
  }
 ],
 "metadata": {
  "kernelspec": {
   "display_name": "Python 3",
   "language": "python",
   "name": "python3"
  },
  "language_info": {
   "codemirror_mode": {
    "name": "ipython",
    "version": 3
   },
   "file_extension": ".py",
   "mimetype": "text/x-python",
   "name": "python",
   "nbconvert_exporter": "python",
   "pygments_lexer": "ipython3",
   "version": "3.7.0"
  }
 },
 "nbformat": 4,
 "nbformat_minor": 2
}
