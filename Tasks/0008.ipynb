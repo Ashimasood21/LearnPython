{
 "cells": [
  {
   "cell_type": "markdown",
   "metadata": {},
   "source": [
    "# Practice Code: 0008\n",
    "\n",
    "**Fill the water into all the bottles. Some are already full, while some are empty and some are partially filled.<br>\n",
    "Each bottle can contain X millilitres of water (dynamic, entered by user), while the capacity of Jar is 1 litre.<br>\n",
    "An array is given with the existing bottles on the table, with 0 to 10 as the values for each element, where 0 means its empty and 10 means its full.<br>\n",
    "Fill all the bottles and print how much additional water was used to fill all the bottle.**\n",
    "\n",
    "Come up with an optimal algorithm and implement it. Use least amount of variables and statements, but performance matters.\n",
    "\n",
    "Input: \n",
    "* Bottles - 5,6,10,0    \n",
    "* BottleCapacity - 1\n",
    "\n",
    "Output: **1.9 ltrs**\n",
    "\n",
    "#python #practiceCode #samples #interviewQuestions #collections #algorithm"
   ]
  },
  {
   "cell_type": "code",
   "execution_count": 2,
   "metadata": {},
   "outputs": [
    {
     "name": "stdout",
     "output_type": "stream",
     "text": [
      "Enter bottle capacity:1\n",
      "3.0 ltrs\n"
     ]
    }
   ],
   "source": [
    "# Solution provided by --- Avisek Mayur\n",
    "\n",
    "bottle=[5,4,10,0,8,7,6]\n",
    "cap=int(input(\"Enter bottle capacity:\"))\n",
    "need=0\n",
    "for i in bottle:\n",
    "    need+=cap*(10-i)\n",
    "need=need/10\n",
    "print(need,'ltrs')"
   ]
  },
  {
   "cell_type": "code",
   "execution_count": 1,
   "metadata": {},
   "outputs": [
    {
     "name": "stdout",
     "output_type": "stream",
     "text": [
      "Enter bottles with amount of water filled : 5,4,10,0,8,7,6\n",
      "Enter Bottles Capacity in litres: 1\n",
      "3.0 ltres\n"
     ]
    }
   ],
   "source": [
    "# Solution provided by --- Krat0s\n",
    "\n",
    "bottles,result=input(\"Enter bottles with amount of water filled : \"),0\n",
    "cap=int(input(\"Enter Bottles Capacity in litres: \"))\n",
    "print(sum(map(lambda x:(cap*10)-int(x),bottles.replace(\",\",\" \").split()))/10,\"ltres\")"
   ]
  }
 ],
 "metadata": {
  "kernelspec": {
   "display_name": "Python 3",
   "language": "python",
   "name": "python3"
  },
  "language_info": {
   "codemirror_mode": {
    "name": "ipython",
    "version": 3
   },
   "file_extension": ".py",
   "mimetype": "text/x-python",
   "name": "python",
   "nbconvert_exporter": "python",
   "pygments_lexer": "ipython3",
   "version": "3.7.0"
  }
 },
 "nbformat": 4,
 "nbformat_minor": 2
}
