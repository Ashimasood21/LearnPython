{
 "cells": [
  {
   "attachments": {},
   "cell_type": "markdown",
   "metadata": {},
   "source": [
    "# Practice Code: 0008\n",
    "\n",
    "**Fill the water into all the bottles. Some are already full, while some are empty and some are partially filled.<br>\n",
    "Each bottle can contain X millilitres of water (dynamic, entered by user), while the capacity of Jar is 1 litre.<br>\n",
    "An array is given with the existing bottles on the table, with 0 to 10 as the values for each element, where 0 means its empty and 10 means its full.<br>\n",
    "Fill all the bottles and print how much additional water was used to fill all the bottle.**\n",
    "\n",
    "Come up with an optimal algorithm and implement it. Use least amount of variables and statements, but performance matters.\n",
    "\n",
    "Input: \n",
    "* Bottles - 5,6,10,0    \n",
    "* BottleCapacity - 1\n",
    "\n",
    "Output: **1.9 ltrs**\n",
    "\n",
    "#python #practiceCode #samples #interviewQuestions #collections #algorithm"
   ]
  },
  {
   "cell_type": "code",
   "execution_count": null,
   "metadata": {},
   "outputs": [],
   "source": []
  }
 ],
 "metadata": {
  "kernelspec": {
   "display_name": "Python 3",
   "language": "python",
   "name": "python3"
  },
  "language_info": {
   "codemirror_mode": {
    "name": "ipython",
    "version": 3
   },
   "file_extension": ".py",
   "mimetype": "text/x-python",
   "name": "python",
   "nbconvert_exporter": "python",
   "pygments_lexer": "ipython3",
   "version": "3.7.0"
  }
 },
 "nbformat": 4,
 "nbformat_minor": 2
}
