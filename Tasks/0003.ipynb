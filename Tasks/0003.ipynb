{
 "cells": [
  {
   "cell_type": "markdown",
   "metadata": {},
   "source": [
    "# Task 0003\n",
    "\n",
    "**In an array, that has been sorted in ascending order, but has been cyclically shifted, find the element that has the minimum element.<br>\n",
    "`Example, [5, 6, 7, 8, 9, 10, 11, 1, 2, 3, 4]`<br>\n",
    "Write an algorithm that optimally finds the minimum element in such an array.**\n"
   ]
  }
 ],
 "metadata": {
  "kernelspec": {
   "display_name": "Python 3",
   "language": "python",
   "name": "python3"
  },
  "language_info": {
   "codemirror_mode": {
    "name": "ipython",
    "version": 3
   },
   "file_extension": ".py",
   "mimetype": "text/x-python",
   "name": "python",
   "nbconvert_exporter": "python",
   "pygments_lexer": "ipython3",
   "version": "3.7.0"
  }
 },
 "nbformat": 4,
 "nbformat_minor": 2
}
