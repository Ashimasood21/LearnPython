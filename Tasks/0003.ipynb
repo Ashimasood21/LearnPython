{
 "cells": [
  {
   "cell_type": "markdown",
   "metadata": {},
   "source": [
    "# Task 0003\n",
    "\n",
    "**In an array, that has been sorted in ascending order, but has been cyclically shifted, find the element that has the minimum element.<br>\n",
    "`Example, [5, 6, 7, 8, 9, 10, 11, 1, 2, 3, 4]`<br>\n",
    "Write an algorithm that optimally finds the minimum element in such an array.**\n",
    "\n",
    "The code which performs with min number of iterations wins!!!"
   ]
  },
  {
   "cell_type": "code",
   "execution_count": null,
   "metadata": {},
   "outputs": [],
   "source": [
    "# Sample values to try your solution.\n",
    "# [5, 6, 7, 8, 9, 10, 11, 12, 13, 1, 2, 3, 4]\n",
    "# [5, 6, 7, 8, 9, 10, 11, 12, 13, 14, 1, 2, 3, 4]\n",
    "# [12, 13, 14, 2, 3, 4, 5, 6, 7, 8, 9, 10, 11]\n",
    "# [6,7,8,9,10,11,12,13,14,1,2,3,4,5]"
   ]
  },
  {
   "cell_type": "code",
   "execution_count": null,
   "metadata": {},
   "outputs": [],
   "source": [
    "# By --- Avisek Mayur\n",
    "# Solution is not what we were looking for, but does the job. Not an optimal solution, when processing few milllions of numbers.\n",
    "\n",
    "arr=[12, 13, 14, 1, 2, 3, 4, 5, 6, 7, 8, 9, 10, 11]\n",
    "for i in range(len(arr)-1):\n",
    "    if(arr[i]>arr[i+1]):\n",
    "        print(\"{} is the smallest\".format(arr[i+1]))"
   ]
  },
  {
   "cell_type": "code",
   "execution_count": null,
   "metadata": {},
   "outputs": [],
   "source": [
    "# By --- Avisek Mayur\n",
    "\n",
    "arr=[5, 6, 7, 8, 9, 10, 11, 12, 13, 1, 2, 3, 4]\n",
    "#arr=[5, 6, 7, 8, 9, 10, 11, 12, 13, 14, 1, 2, 3, 4]\n",
    "arr=[12, 13, 14, 2, 3, 4, 5, 6, 7, 8, 9, 10, 11]\n",
    "#arr=[6,7,8,9,10,11,12,13,14,1,2,3,4,5]\n",
    "\n",
    "iteration=start=0\n",
    "end=len(arr)\n",
    "while(start<end):\n",
    "\titeration+=1\n",
    "\tmid=(start+end)//2\n",
    "\tif(arr[mid]<arr[mid-1]):\n",
    "\t\tbreak\n",
    "\tif(arr[mid]>arr[start]):\n",
    "\t\tstart=mid\n",
    "\telse:\n",
    "\t\tend=mid\n",
    "print(\"{} is the smallest. Number of iteration:{}\".format(arr[mid],iteration))"
   ]
  },
  {
   "cell_type": "code",
   "execution_count": 1,
   "metadata": {},
   "outputs": [
    {
     "name": "stdout",
     "output_type": "stream",
     "text": [
      "1 is the smallest\n"
     ]
    }
   ],
   "source": [
    "arr=[5, 6, 7, 8, 9, 10, 11, 1, 2, 3, 4]\n",
    "start=0\n",
    "end=len(arr)-1\n",
    "\n",
    "while(start<end):\n",
    "\tif(arr[start]>arr[end]):\n",
    "\t\tstart=(start+end)//2\n",
    "\telse:\n",
    "\t\tend=(start+end)//2\n",
    "\n",
    "print(\"{} is the smallest\".format(arr[start]))"
   ]
  },
  {
   "cell_type": "code",
   "execution_count": 3,
   "metadata": {},
   "outputs": [
    {
     "name": "stdout",
     "output_type": "stream",
     "text": [
      "3\n"
     ]
    }
   ],
   "source": [
    "a,p=[5, 6, 7, 8, 9, 10, 11, 12, 13, 14, 3, 4],-1\n",
    "for i in range(len(a)//2+1):\n",
    "\tif a[i]==a[p]:\n",
    "\t\tprint(a[i+1])\n",
    "\t\tbreak\n",
    "\telif a[i]<a[p]:\n",
    "\t\tprint(a[p+1])\n",
    "\t\tbreak\n",
    "\tp-=1"
   ]
  },
  {
   "cell_type": "code",
   "execution_count": 10,
   "metadata": {},
   "outputs": [
    {
     "name": "stdout",
     "output_type": "stream",
     "text": [
      "-1\n",
      "-2\n",
      "-3\n",
      "-4\n",
      "-5\n",
      "1\n"
     ]
    }
   ],
   "source": [
    "# By --- ʀᴏʜɪᴛʜ ᴋᴜᴍᴀʀ\n",
    "\n",
    "a,p=[5, 6, 7, 8, 9, 10, 11, 12, 13, 14, 1, 2, 3, 4],0\n",
    "#a,p=[4,5,6,1,2,3],0\n",
    "#a=[12, 13, 14, 1, 2, 3, 4, 5, 6, 7, 8, 9, 10, 11]\n",
    "\n",
    "l,x=len(a)//2+1,a[0]+a[-1]\n",
    "for i in range(l):\n",
    "    p-=1\n",
    "    print(p)\n",
    "    if a[i]+a[p]!=x:\n",
    "        print(min(a[i-1],a[p+1],a[i],a[p]))\n",
    "        break\n",
    "else:\n",
    "    print(min(a[i],a[p]))"
   ]
  }
 ],
 "metadata": {
  "kernelspec": {
   "display_name": "Python 3",
   "language": "python",
   "name": "python3"
  },
  "language_info": {
   "codemirror_mode": {
    "name": "ipython",
    "version": 3
   },
   "file_extension": ".py",
   "mimetype": "text/x-python",
   "name": "python",
   "nbconvert_exporter": "python",
   "pygments_lexer": "ipython3",
   "version": "3.7.0"
  }
 },
 "nbformat": 4,
 "nbformat_minor": 2
}
