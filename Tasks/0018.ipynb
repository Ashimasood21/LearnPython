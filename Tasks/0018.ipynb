{
 "cells": [
  {
   "cell_type": "markdown",
   "metadata": {},
   "source": [
    "# Practice Code: 0018\n",
    "\n",
    "**Task:<br><br>\n",
    "You have to create a program which takes input as two arguments where one will be string and the other a positve int.\n",
    "Now you have to print output first 3 charachters of the given string the times the value is given as input.**\n",
    "\n",
    "Example:<br>\n",
    "**Input** : (\"Chocolate\", 2) - - - - **Output**: 'ChoCho'<br>\n",
    "**Input** : (\"Python\",3) -- - - - - - **Output**: 'PytPytPyt'<br>\n",
    "\n",
    "\n",
    "««« Send your solution to telegram account @hbabureddy and will be updated as a solution on this page »»»\n",
    "\n",
    "#python #practiceCode #samples"
   ]
  },
  {
   "cell_type": "code",
   "execution_count": 4,
   "metadata": {},
   "outputs": [
    {
     "name": "stdout",
     "output_type": "stream",
     "text": [
      "Enter a wordChocolate\n",
      "Enter a number3\n",
      "ChoChoCho\n"
     ]
    }
   ],
   "source": [
    "# By ---> Billstone McRomans\n",
    "\n",
    "def three_char(x=input('Enter a word'), y=int(input('Enter a number'))):\n",
    "     word= x[0:3] * y\n",
    "     print(word)\n",
    "\n",
    "three_char()"
   ]
  },
  {
   "cell_type": "code",
   "execution_count": 1,
   "metadata": {},
   "outputs": [
    {
     "name": "stdout",
     "output_type": "stream",
     "text": [
      "Python\n",
      "4\n",
      "PythPythPythPyth\n"
     ]
    }
   ],
   "source": [
    "# By ---> H20\n",
    "\n",
    "text = input()\n",
    "rpt = int(input())\n",
    "tup = (text, rpt)\n",
    "print(tup[0][:rpt]*rpt)"
   ]
  },
  {
   "cell_type": "code",
   "execution_count": 2,
   "metadata": {},
   "outputs": [
    {
     "name": "stdout",
     "output_type": "stream",
     "text": [
      "PytPytPytPyt\n"
     ]
    }
   ],
   "source": [
    "# By ---> ʀᴏʜɪᴛʜ ᴋᴜᴍᴀʀ\n",
    "\n",
    "def task0018(string,number):\n",
    "\treturn string[0:3]*number\n",
    "print(task0018(\"Python\",4))"
   ]
  }
 ],
 "metadata": {
  "kernelspec": {
   "display_name": "Python 3",
   "language": "python",
   "name": "python3"
  },
  "language_info": {
   "codemirror_mode": {
    "name": "ipython",
    "version": 3
   },
   "file_extension": ".py",
   "mimetype": "text/x-python",
   "name": "python",
   "nbconvert_exporter": "python",
   "pygments_lexer": "ipython3",
   "version": "3.7.0"
  }
 },
 "nbformat": 4,
 "nbformat_minor": 2
}
