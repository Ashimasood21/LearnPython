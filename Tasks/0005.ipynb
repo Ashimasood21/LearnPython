{
 "cells": [
  {
   "cell_type": "markdown",
   "metadata": {},
   "source": [
    "# Practice Code: 0005\n",
    "\n",
    "### Permutation:\n",
    "Permutation is the act of arranging the members of a set into a sequence or order, or, if the set is already ordered, rearranging its elements—a process called permuting. Permutations differ from combinations, which are selections of some members of a set regardless of order.\n",
    "\n",
    "**Write a function, which determines whether one line is a permutation of another. Write an algorithm that optimally finishes the task.**\n",
    "\n",
    "#python #practiceCode #samples #interviewQuestions #collections #list #algorithm"
   ]
  },
  {
   "cell_type": "code",
   "execution_count": 6,
   "metadata": {},
   "outputs": [
    {
     "name": "stdout",
     "output_type": "stream",
     "text": [
      "Enter the first string:hello how are you\n",
      "Enter the second string:how are you hello\n",
      "Two strings are permutation of each other\n"
     ]
    }
   ],
   "source": [
    "# By Avisek\n",
    "\n",
    "str1=input(\"Enter the first string:\").upper()\n",
    "str2=input(\"Enter the second string:\").upper()\n",
    "list1=str1.split()\n",
    "list2=str2.split()\n",
    "flag=True\n",
    "for i in list1:\n",
    "    if i not in list2:\n",
    "        flag=False\n",
    "        break\n",
    "    else:\n",
    "        list2.remove(i)\n",
    "    \n",
    "\n",
    "if flag:\n",
    "    print(\"Two strings are permutation of each other\")\n",
    "else:\n",
    "    print(\"Two strings are different\")"
   ]
  }
 ],
 "metadata": {
  "kernelspec": {
   "display_name": "Python 3",
   "language": "python",
   "name": "python3"
  },
  "language_info": {
   "codemirror_mode": {
    "name": "ipython",
    "version": 3
   },
   "file_extension": ".py",
   "mimetype": "text/x-python",
   "name": "python",
   "nbconvert_exporter": "python",
   "pygments_lexer": "ipython3",
   "version": "3.7.0"
  }
 },
 "nbformat": 4,
 "nbformat_minor": 2
}
