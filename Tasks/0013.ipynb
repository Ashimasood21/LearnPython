{
 "cells": [
  {
   "cell_type": "markdown",
   "metadata": {},
   "source": [
    "# Practice Code: 0013\n",
    "\n",
    "**Task:<br><br>\n",
    "We all use the function to convert a string to a number. But what if that was not available.\n",
    "This task is to write your own convert to string function.**\n",
    "* **A string can contain alphanumeric characters, but the function should be able to pick the last set of digits.**\n",
    "* **It should only convert the string to integers and if decimals are provided, they should be rounded off to a nearest integer.**\n",
    "* **The range of this number should be between [-2 ^ 31, 2 ^ 31 - 1]. If the result is outside this range, display the border value.**\n",
    "\n",
    "Example:<br>\n",
    "**Input** : \"25\" **Output**: 25<br>\n",
    "**Input** : \"25.55\" **Output**: 26<br>\n",
    "**Input** : \"25Hello234.56\" **Output**: 235<br>\n",
    "\n",
    "\n",
    "««« Send your solution to telegram account @hbabureddy and will be updated as a solution on this page »»»\n",
    "\n",
    "#python #practiceCode #samples #interviewQuestions #collections #algorithm"
   ]
  },
  {
   "cell_type": "code",
   "execution_count": 2,
   "metadata": {},
   "outputs": [
    {
     "name": "stdout",
     "output_type": "stream",
     "text": [
      "25\n",
      "235\n",
      "26\n",
      "None\n"
     ]
    }
   ],
   "source": [
    "# By ---> Shahanwaj Malik\n",
    "\n",
    "def covertToString(st):\n",
    "    nst=''\n",
    "    for i in range(0,len(st)):\n",
    "\n",
    "        if (st[i]>='A' and st[i]<='Z') or (st[i]>='a' and st[i]<='z'):\n",
    "            nst=''\n",
    "        else:\n",
    "            nst = nst + st[i]\n",
    "    if nst=='':\n",
    "        pass\n",
    "    else:\n",
    "        return round(float(nst))\n",
    "\n",
    "print(covertToString('25'))\n",
    "print(covertToString('25Hello234.56'))\n",
    "print(covertToString('25.55'))\n",
    "print(covertToString('25.55Hellos456.758helo'))"
   ]
  }
 ],
 "metadata": {
  "kernelspec": {
   "display_name": "Python 3",
   "language": "python",
   "name": "python3"
  },
  "language_info": {
   "codemirror_mode": {
    "name": "ipython",
    "version": 3
   },
   "file_extension": ".py",
   "mimetype": "text/x-python",
   "name": "python",
   "nbconvert_exporter": "python",
   "pygments_lexer": "ipython3",
   "version": "3.7.0"
  }
 },
 "nbformat": 4,
 "nbformat_minor": 2
}
