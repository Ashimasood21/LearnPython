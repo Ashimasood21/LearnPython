{
 "cells": [
  {
   "cell_type": "markdown",
   "metadata": {},
   "source": [
    "# Task 0004\n",
    "\n",
    "Check if a palindrome can be created from a string entered by the user.\n",
    "\n",
    "A palindrome is a word, number, phrase, or other sequence of characters which reads the same backward as forward, such as madam, racecar, or the number 10801.\n",
    "\n",
    "\"madam\" => true - is already a palindrome\n",
    "\"mamad\" => true - can be made a palindrome\n",
    "\"sir\" => false - cannot be made a palindrome"
   ]
  },
  {
   "cell_type": "code",
   "execution_count": 5,
   "metadata": {
    "scrolled": true
   },
   "outputs": [
    {
     "name": "stdout",
     "output_type": "stream",
     "text": [
      "maDAm\n",
      "False\n"
     ]
    }
   ],
   "source": [
    "# By --- ʀᴏʜɪᴛʜ ᴋᴜᴍᴀʀ\n",
    "\n",
    "s=input()\n",
    "nr,c=set(s),0\n",
    "for i in nr:\n",
    "    if s.count(i)%2:\n",
    "        c+=1\n",
    "    if c>1:\n",
    "        print(False)\n",
    "        break\n",
    "if c<=1:\n",
    "    print(True)\n"
   ]
  },
  {
   "cell_type": "code",
   "execution_count": 8,
   "metadata": {},
   "outputs": [
    {
     "name": "stdout",
     "output_type": "stream",
     "text": [
      "Enter a string: maMAD\n",
      "maMAD can be made a palindrome\n"
     ]
    }
   ],
   "source": [
    "# By --- Avisek Mayur\n",
    "\n",
    "string=input(\"Enter a string: \")\n",
    "copy=string.upper()\n",
    "copy=list(copy)\n",
    "if(copy==copy[::-1]):\n",
    "\tprint(string+\" is already a palindrome\")\n",
    "else:\n",
    "\tmydic={} #creating a dictionary of each individual letters and their occurance\n",
    "\tfor i in copy:\n",
    "\t\tif i not in mydic:\n",
    "\t\t\tmydic[i]=copy.count(i)\n",
    "\todd=0\n",
    "\tfor i,cnt in mydic.items():\n",
    "\t\tif(cnt%2!=0):\n",
    "\t\t\todd+=1\n",
    "\tif(odd>1):\n",
    "\t\tprint(string+\" cannot be made a palindrome\")\n",
    "\telse:\n",
    "\t\tprint(string+\" can be made a palindrome\")"
   ]
  }
 ],
 "metadata": {
  "kernelspec": {
   "display_name": "Python 3",
   "language": "python",
   "name": "python3"
  },
  "language_info": {
   "codemirror_mode": {
    "name": "ipython",
    "version": 3
   },
   "file_extension": ".py",
   "mimetype": "text/x-python",
   "name": "python",
   "nbconvert_exporter": "python",
   "pygments_lexer": "ipython3",
   "version": "3.7.0"
  }
 },
 "nbformat": 4,
 "nbformat_minor": 2
}
