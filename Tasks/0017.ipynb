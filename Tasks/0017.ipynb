{
 "cells": [
  {
   "cell_type": "markdown",
   "metadata": {},
   "source": [
    "# Practice Code: 0017\n",
    "\n",
    "**Task:<br><br>\n",
    "You have to create a program in which the given string is printed with first and last character\n",
    "exchanged.\n",
    "NOTE: You don't have to reverse whole string!**\n",
    "\n",
    "Example:<br>\n",
    "**Input** : 'Python' ------- **Output**: 'nythoP'<br>\n",
    "**Input** : 'Telegram' ---- **Output**: 'melegraT'<br>\n",
    "\n",
    "\n",
    "««« Send your solution to telegram account @hbabureddy and will be updated as a solution on this page »»»\n",
    "\n",
    "#python #practiceCode #samples"
   ]
  },
  {
   "cell_type": "code",
   "execution_count": 4,
   "metadata": {},
   "outputs": [
    {
     "name": "stdout",
     "output_type": "stream",
     "text": [
      "Enter a wordPython\n",
      "nythoP\n"
     ]
    }
   ],
   "source": [
    "# By ---> Billstone McRomans\n",
    "\n",
    "def rev_print():\n",
    "      text = input('Enter a word') \n",
    "      f_word = (text[0]).upper()\n",
    "      l_word = (text[-1])\n",
    "      m_word = text[1:-1]\n",
    "      word = l_word + m_word + f_word\n",
    "      print(word)\n",
    "\n",
    "\n",
    "rev_print()"
   ]
  }
 ],
 "metadata": {
  "kernelspec": {
   "display_name": "Python 3",
   "language": "python",
   "name": "python3"
  },
  "language_info": {
   "codemirror_mode": {
    "name": "ipython",
    "version": 3
   },
   "file_extension": ".py",
   "mimetype": "text/x-python",
   "name": "python",
   "nbconvert_exporter": "python",
   "pygments_lexer": "ipython3",
   "version": "3.7.0"
  }
 },
 "nbformat": 4,
 "nbformat_minor": 2
}
