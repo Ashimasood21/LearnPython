{
 "cells": [
  {
   "cell_type": "markdown",
   "metadata": {},
   "source": [
    "# Practice Code: 0022\n",
    "\n",
    "**Task:<br><br>\n",
    "Create a program in which a list is given as input and you have to find max number\n",
    "and change each element of list into max element.**\n",
    "\n",
    "Example:<br>\n",
    "**Input** : [1,2,3,4,5] **Output**: [5,5,5,5,5]<br>\n",
    "\n",
    "\n",
    "««« Send your solution to telegram account @hbabureddy and will be updated as a solution on this page »»»\n",
    "\n",
    "#python #practiceCode #samples"
   ]
  },
  {
   "cell_type": "code",
   "execution_count": 1,
   "metadata": {},
   "outputs": [
    {
     "name": "stdout",
     "output_type": "stream",
     "text": [
      "[5, 5, 5, 5, 5]\n",
      "[5, 5, 5, 5, 5]\n"
     ]
    }
   ],
   "source": [
    "# By --- ʀᴏʜɪᴛʜ ᴋᴜᴍᴀʀ\n",
    "\n",
    "def in_built(arr):\t\n",
    "\tprint([max(arr)]*len(arr))\t#Printing max value length of arr times\n",
    "\t\n",
    "def add_on(arr):\n",
    "\tln=len(arr)\n",
    "\tmx=arr[0]\n",
    "\tfor i in range(1,ln):\n",
    "\t\tif arr[i]>mx:\n",
    "\t\t\tmx=arr[i]\t#max value stored in mx\n",
    "\tprint([mx]*ln)\n",
    "in_built([1,2,3,4,5])\n",
    "add_on([1,2,3,4,5])"
   ]
  },
  {
   "cell_type": "code",
   "execution_count": 2,
   "metadata": {},
   "outputs": [
    {
     "name": "stdout",
     "output_type": "stream",
     "text": [
      "[54, 54, 54, 54, 54]\n"
     ]
    }
   ],
   "source": [
    "# By --- Shreyash Musale\n",
    "\n",
    "li=[12,54,33,16,9]\n",
    "li.sort()\n",
    "max=li[-1]\n",
    "li=[max]*len(li)\n",
    "print(li)"
   ]
  }
 ],
 "metadata": {
  "kernelspec": {
   "display_name": "Python 3",
   "language": "python",
   "name": "python3"
  },
  "language_info": {
   "codemirror_mode": {
    "name": "ipython",
    "version": 3
   },
   "file_extension": ".py",
   "mimetype": "text/x-python",
   "name": "python",
   "nbconvert_exporter": "python",
   "pygments_lexer": "ipython3",
   "version": "3.7.0"
  }
 },
 "nbformat": 4,
 "nbformat_minor": 2
}
