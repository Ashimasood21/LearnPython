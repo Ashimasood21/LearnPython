{
 "cells": [
  {
   "cell_type": "markdown",
   "metadata": {},
   "source": [
    "# Practice Code: 0021\n",
    "\n",
    "**Task:<br><br>\n",
    "You have to create a program in which a list of numbers are given and you to print the list shifted left by one step.**\n",
    "\n",
    "Example:<br>\n",
    "**Input** : [1,2,3,4] - - - - - **Output**: [2,3,4,1]<br>\n",
    "\n",
    "\n",
    "««« Send your solution to telegram account @hbabureddy and will be updated as a solution on this page »»»\n",
    "\n",
    "#python #practiceCode #samples"
   ]
  },
  {
   "cell_type": "code",
   "execution_count": 3,
   "metadata": {},
   "outputs": [
    {
     "name": "stdout",
     "output_type": "stream",
     "text": [
      "[3, 4, 5, 6, 2]\n"
     ]
    }
   ],
   "source": [
    "# By ---> ʀᴏʜɪᴛʜ ᴋᴜᴍᴀʀ\n",
    "\n",
    "ar=[2,3,4,5,6]\n",
    "ar.append(ar.pop(0))\n",
    "print(ar)"
   ]
  },
  {
   "cell_type": "code",
   "execution_count": 1,
   "metadata": {},
   "outputs": [
    {
     "name": "stdout",
     "output_type": "stream",
     "text": [
      "input the list: [1,2,3,4,5,6,7,8,9]\n",
      "[2,3,4,5,6,7,8,9,1]\n"
     ]
    }
   ],
   "source": [
    "# By --- Henok\n",
    "\n",
    "x = input(\"input the list: \")\n",
    "y = x[3: len(x) - 1]\n",
    "y1 = x[1]\n",
    "conc = \"[\" + y  + \",\" + y1 + \"]\"\n",
    "print(conc)"
   ]
  }
 ],
 "metadata": {
  "kernelspec": {
   "display_name": "Python 3",
   "language": "python",
   "name": "python3"
  },
  "language_info": {
   "codemirror_mode": {
    "name": "ipython",
    "version": 3
   },
   "file_extension": ".py",
   "mimetype": "text/x-python",
   "name": "python",
   "nbconvert_exporter": "python",
   "pygments_lexer": "ipython3",
   "version": "3.7.0"
  }
 },
 "nbformat": 4,
 "nbformat_minor": 2
}
