{
 "cells": [
  {
   "attachments": {},
   "cell_type": "markdown",
   "metadata": {},
   "source": [
    "# Task 0001\n",
    "\n",
    "**Accept a number from the user, and return the value in reverse order.**\n",
    "Levels below : (by iGnani ---- Telegram: @python_programmers_club)\n",
    "\n",
    "1. Input: 123456        --- Output: 654321\n",
    "2. Input: -987654       --- Output: -456789\n",
    "3. Input: 12.34         --- Output: 21.34\n",
    "4. Input: -12.34        --- Output: -21.34\n",
    "5. Input: abc (NonNum)  --- Output: Only Number accepted!\n",
    "6. Input: 12,34,567     --- Output: 76,54,321\n",
    "7. Input: -12,34,567    --- Output: -76,54,321\n",
    "8. Input: 12,34,567.89  --- Output: 76,54,321.98\n",
    "9. Input: -12,34,567.89 --- Output: -76,54,321.98"
   ]
  }
 ],
 "metadata": {
  "kernelspec": {
   "display_name": "Python 3",
   "language": "python",
   "name": "python3"
  },
  "language_info": {
   "codemirror_mode": {
    "name": "ipython",
    "version": 3
   },
   "file_extension": ".py",
   "mimetype": "text/x-python",
   "name": "python",
   "nbconvert_exporter": "python",
   "pygments_lexer": "ipython3",
   "version": "3.7.0"
  }
 },
 "nbformat": 4,
 "nbformat_minor": 2
}
