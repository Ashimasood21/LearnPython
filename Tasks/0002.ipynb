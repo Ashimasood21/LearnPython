{
 "cells": [
  {
   "cell_type": "markdown",
   "metadata": {},
   "source": [
    "# Task 0002\n",
    "\n",
    "**Accept a number from the user and return**\n",
    "1. Sum of all natural numbers that are multiples of 5,7 less than the number entered by the user. <br>\n",
    "   Example --- Input: 15    --- 5, 7, 10, 14 and return 36"
   ]
  },
  {
   "cell_type": "code",
   "execution_count": 5,
   "metadata": {},
   "outputs": [
    {
     "name": "stdout",
     "output_type": "stream",
     "text": [
      "Enter your Number : 50\n",
      "5  7  10  14  15  20  21  25  28  30  35  40  42  45  49  =  386\n"
     ]
    }
   ],
   "source": [
    "# Solution by Krat0s\n",
    "\n",
    "val,result=int(input(\"Enter your Number : \")),0\n",
    "for a in range(1,val):\n",
    "    if a%5==0 or a%7==0:\n",
    "        print(a, \" \", end=\"\")\n",
    "        result+=a\n",
    "print(\"= \", result)"
   ]
  }
 ],
 "metadata": {
  "kernelspec": {
   "display_name": "Python 3",
   "language": "python",
   "name": "python3"
  },
  "language_info": {
   "codemirror_mode": {
    "name": "ipython",
    "version": 3
   },
   "file_extension": ".py",
   "mimetype": "text/x-python",
   "name": "python",
   "nbconvert_exporter": "python",
   "pygments_lexer": "ipython3",
   "version": "3.7.0"
  }
 },
 "nbformat": 4,
 "nbformat_minor": 2
}
