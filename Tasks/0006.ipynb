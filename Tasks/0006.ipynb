{
 "cells": [
  {
   "cell_type": "markdown",
   "metadata": {},
   "source": [
    "# Practice Code: 0006\n",
    "\n",
    "**Given a line, the words in it are indicated with a space. Print words in descending order of their length.**\n",
    "\n",
    "**Input:** My favourite programming language is Python.<br>\n",
    "**Output:** programming favourite language Python My is.\n",
    "\n",
    "Use an optimal algorithm to solve this problem.\n",
    "\n",
    "#python #practiceCode #samples #interviewQuestions #collections #dict #algorithm"
   ]
  },
  {
   "cell_type": "code",
   "execution_count": 1,
   "metadata": {
    "scrolled": true
   },
   "outputs": [
    {
     "name": "stdout",
     "output_type": "stream",
     "text": [
      "programming favourite language Python. My is \n"
     ]
    }
   ],
   "source": [
    "# By Krat0s\n",
    "\n",
    "val= \"My favourite programming language is Python.\"\n",
    "n_val,b,max=val.split(),\"\",\"\"\n",
    "for a in range(len(n_val)):\n",
    "    for i in range(len(n_val)):\n",
    "        if len(max) < len(n_val[i]):\n",
    "            max=n_val[i]\n",
    "    b+=max+\" \"\n",
    "    del n_val[n_val.index(max)]\n",
    "    max=\"\"\n",
    "print(b)"
   ]
  },
  {
   "cell_type": "code",
   "execution_count": 2,
   "metadata": {},
   "outputs": [
    {
     "name": "stdout",
     "output_type": "stream",
     "text": [
      "Enter the first string:My favourite programming language is Python.\n",
      "programming favourite language Python. is My \n"
     ]
    }
   ],
   "source": [
    "# By Avisek Mayur\n",
    "\n",
    "str1=input(\"Enter the first string:\")\n",
    "list1=str1.split() \n",
    "\n",
    "for i in range(len(list1)):\n",
    "    for j in range(i+1,len(list1)):\n",
    "        if len(list1[i])<len(list1[j]):\n",
    "            list1[i],list1[j]=list1[j],list1[i]\n",
    "\n",
    "str1=\"\"\n",
    "for i in list1:\n",
    "    str1+=i+\" \"\n",
    "print(str1)"
   ]
  }
 ],
 "metadata": {
  "kernelspec": {
   "display_name": "Python 3",
   "language": "python",
   "name": "python3"
  },
  "language_info": {
   "codemirror_mode": {
    "name": "ipython",
    "version": 3
   },
   "file_extension": ".py",
   "mimetype": "text/x-python",
   "name": "python",
   "nbconvert_exporter": "python",
   "pygments_lexer": "ipython3",
   "version": "3.7.0"
  }
 },
 "nbformat": 4,
 "nbformat_minor": 2
}
