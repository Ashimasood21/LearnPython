{
 "cells": [
  {
   "attachments": {},
   "cell_type": "markdown",
   "metadata": {},
   "source": [
    "# Practice Code: 0006\n",
    "\n",
    "**Given a line, the words in it are indicated with a space. Print words in descending order of their length.**\n",
    "\n",
    "**Input:** My favourite programming language is Python.<br>\n",
    "**Output:** programming favourite language Python My is.\n",
    "\n",
    "Use an optimal algorithm to solve this problem.\n",
    "\n",
    "#python #practiceCode #samples #interviewQuestions #collections #dict #algorithm"
   ]
  }
 ],
 "metadata": {
  "kernelspec": {
   "display_name": "Python 3",
   "language": "python",
   "name": "python3"
  },
  "language_info": {
   "codemirror_mode": {
    "name": "ipython",
    "version": 3
   },
   "file_extension": ".py",
   "mimetype": "text/x-python",
   "name": "python",
   "nbconvert_exporter": "python",
   "pygments_lexer": "ipython3",
   "version": "3.7.0"
  }
 },
 "nbformat": 4,
 "nbformat_minor": 2
}
