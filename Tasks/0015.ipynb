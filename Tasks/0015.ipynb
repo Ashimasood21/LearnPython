{
 "cells": [
  {
   "cell_type": "markdown",
   "metadata": {},
   "source": [
    "# Practice Code: 0015\n",
    "\n",
    "**Task:<br><br>\n",
    "You have a pet cat and whenever it cries between time 7 to 20, you are safe.\n",
    "The input has to be given \n",
    "a. Cat crying = True, Not crying = False\n",
    "b. Time in form of \"Hour\" in range 0 to 23. \n",
    "So create a program to check whether you are safe or not.**\n",
    "\n",
    "Example:<br>\n",
    "**Input** : (True,8) **Output**: True<br>\n",
    "**Input** : (False,14) **Output**: False<br>\n",
    "**Input** : (True,4) **Output**: False<br>\n",
    "\n",
    "\n",
    "««« Send your solution to telegram account @hbabureddy and will be updated as a solution on this page »»»\n",
    "\n",
    "#python #practiceCode #samples"
   ]
  },
  {
   "cell_type": "code",
   "execution_count": null,
   "metadata": {},
   "outputs": [],
   "source": [
    "# Solution will be posted shortly"
   ]
  }
 ],
 "metadata": {
  "kernelspec": {
   "display_name": "Python 3",
   "language": "python",
   "name": "python3"
  },
  "language_info": {
   "codemirror_mode": {
    "name": "ipython",
    "version": 3
   },
   "file_extension": ".py",
   "mimetype": "text/x-python",
   "name": "python",
   "nbconvert_exporter": "python",
   "pygments_lexer": "ipython3",
   "version": "3.7.0"
  }
 },
 "nbformat": 4,
 "nbformat_minor": 2
}
