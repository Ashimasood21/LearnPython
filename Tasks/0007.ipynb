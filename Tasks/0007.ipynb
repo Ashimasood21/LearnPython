{
 "cells": [
  {
   "cell_type": "markdown",
   "metadata": {},
   "source": [
    "# Practice Code: 0007\n",
    "\n",
    "**Write a function, which counts each character in a string and prints the output with the character count.**\n",
    "\n",
    "**Input :** \"xxXXXXXAAABBcCDDDEEEEccc\"<br>\n",
    "**Output:** \"x2X5A3B2c1C1D3E4c3\"\n",
    "\n",
    "Try solving it using the an optimal algorithm and then solve it using functions or packages of Python.\n",
    "\n",
    "#python #practiceCode #samples #interviewQuestions #collections #algorithm"
   ]
  },
  {
   "cell_type": "code",
   "execution_count": 1,
   "metadata": {},
   "outputs": [
    {
     "name": "stdout",
     "output_type": "stream",
     "text": [
      "Enter a string:xxXXXXXAAABBcCDDDEEEEccc\n",
      "x2X5A3B2c4C1D3E4\n"
     ]
    }
   ],
   "source": [
    "# Solution provided by --- Avisek Mayur\n",
    "\n",
    "# Not the solution what was expected.\n",
    "\n",
    "str1=input(\"Enter a string:\")\n",
    "str2=\"\"\n",
    "for i in str1:\n",
    "    if i not in str2:\n",
    "        str2+=i+str(str1.count(i))\n",
    "print(str2)"
   ]
  }
 ],
 "metadata": {
  "kernelspec": {
   "display_name": "Python 3",
   "language": "python",
   "name": "python3"
  },
  "language_info": {
   "codemirror_mode": {
    "name": "ipython",
    "version": 3
   },
   "file_extension": ".py",
   "mimetype": "text/x-python",
   "name": "python",
   "nbconvert_exporter": "python",
   "pygments_lexer": "ipython3",
   "version": "3.7.0"
  }
 },
 "nbformat": 4,
 "nbformat_minor": 2
}
