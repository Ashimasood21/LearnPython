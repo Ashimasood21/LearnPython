{
 "cells": [
  {
   "cell_type": "markdown",
   "metadata": {},
   "source": [
    "# Practice Code: 0020\n",
    "\n",
    "**Task:<br><br>\n",
    "You have to create a program in which two input has to be taken 1st bracket string\n",
    "with size 4 two open and two close like (()) , {{}} etc.. and 2nd input ,a word.<br>\n",
    "Now you have to print the word enclosing it within given brackets.**\n",
    "\n",
    "Example:<br>\n",
    "**Input** : '(())' , 'Python' - - - - - **Output**: '((Python))'<br>\n",
    "\n",
    "\n",
    "««« Send your solution to telegram account @hbabureddy and will be updated as a solution on this page »»»\n",
    "\n",
    "#python #practiceCode #samples"
   ]
  },
  {
   "cell_type": "code",
   "execution_count": 2,
   "metadata": {},
   "outputs": [
    {
     "name": "stdout",
     "output_type": "stream",
     "text": [
      "({[{python}]})\n"
     ]
    }
   ],
   "source": [
    "# By ---> ʀᴏʜɪᴛʜ ᴋᴜᴍᴀʀ\n",
    "\n",
    "def PC0020(braces,string):\n",
    "\tln=len(braces)//2\n",
    "\treturn braces[:ln]+string+braces[ln:]\n",
    "print(PC0020(\"({[{}]})\",\"python\"))"
   ]
  }
 ],
 "metadata": {
  "kernelspec": {
   "display_name": "Python 3",
   "language": "python",
   "name": "python3"
  },
  "language_info": {
   "codemirror_mode": {
    "name": "ipython",
    "version": 3
   },
   "file_extension": ".py",
   "mimetype": "text/x-python",
   "name": "python",
   "nbconvert_exporter": "python",
   "pygments_lexer": "ipython3",
   "version": "3.7.0"
  }
 },
 "nbformat": 4,
 "nbformat_minor": 2
}
