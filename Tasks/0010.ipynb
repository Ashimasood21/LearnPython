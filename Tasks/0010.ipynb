{
 "cells": [
  {
   "cell_type": "markdown",
   "metadata": {},
   "source": [
    "# Practice Code: 0010\n",
    "\n",
    "**Task:<br><br>\n",
    "You are a hard working child but you lack sleep 'cause of being busy with work. You can only sleep when you are off working day or you are on holidays.\n",
    "You have to create a program that you get to sleep(return True) if you are on holidays or you are off from working day.**\n",
    "\n",
    "Example:<br>\n",
    "**Input** : Working=True , Holiday=False<br>\n",
    "**Output**: False<br>\n",
    "\n",
    "**Input** : Working=False , Holiday=False<br>\n",
    "**Output**: True<br>\n",
    "\n",
    "**Input** : Working=False , Holiday=True<br>\n",
    "**Output**: True<br>\n",
    "\n",
    "\n",
    "««« Send your solution to telegram account @hbabureddy and will be updated as a solution on this page »»»\n",
    "\n",
    "#python #practiceCode #samples #interviewQuestions #collections #algorithm"
   ]
  },
  {
   "cell_type": "code",
   "execution_count": null,
   "metadata": {},
   "outputs": [],
   "source": [
    "# Solution will be posted shortly"
   ]
  }
 ],
 "metadata": {
  "kernelspec": {
   "display_name": "Python 3",
   "language": "python",
   "name": "python3"
  },
  "language_info": {
   "codemirror_mode": {
    "name": "ipython",
    "version": 3
   },
   "file_extension": ".py",
   "mimetype": "text/x-python",
   "name": "python",
   "nbconvert_exporter": "python",
   "pygments_lexer": "ipython3",
   "version": "3.7.0"
  }
 },
 "nbformat": 4,
 "nbformat_minor": 2
}
