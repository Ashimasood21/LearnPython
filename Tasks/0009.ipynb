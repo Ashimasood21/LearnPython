{
 "cells": [
  {
   "cell_type": "markdown",
   "metadata": {},
   "source": [
    "# Practice Code: 0009\n",
    "\n",
    "**Task:<br><br>\n",
    "Given a numerical array. Check if there are two such numbers in the array, multiplying which we get the given number X.**\n",
    "\n",
    "Come up with an optimal algorithm and implement it. Use least amount of variables and statements, but performance matters.\n",
    "\n",
    "Array: [1, 2, 3, 4, 5, 6]\n",
    "Input: 10   --- Output: (2,5)\n",
    "Input: 12   --- Output: (2,6),(3,4)\n",
    "\n",
    "#python #practiceCode #samples #interviewQuestions #collections #algorithm"
   ]
  },
  {
   "cell_type": "code",
   "execution_count": null,
   "metadata": {
    "scrolled": true
   },
   "outputs": [],
   "source": [
    "# By ---> H20\n",
    "\n",
    "import itertools, math\n",
    "data = [1, 2, 3, 3, 4, 5, 6]\n",
    "num = 12\n",
    "comb = list(itertools.combinations(set(data), 2))\n",
    "for var in comb:\n",
    "    if math.prod(var) == num:\n",
    "        print(var, end=' ')"
   ]
  },
  {
   "cell_type": "code",
   "execution_count": 7,
   "metadata": {},
   "outputs": [
    {
     "name": "stdout",
     "output_type": "stream",
     "text": [
      "(6, 4)\n",
      "(8, 3)\n"
     ]
    }
   ],
   "source": [
    "# By ---> ʀᴏʜɪᴛʜ ᴋᴜᴍᴀʀ\n",
    "\n",
    "numbers=[1,2,3,4,5,6,7,8,9,10,20,30]\n",
    "x=24\n",
    "dict={}\n",
    "for index,number in enumerate(numbers):\n",
    "\tif number in dict:\n",
    "\t\tprint((number,x//number))\n",
    "\telse:\n",
    "\t\tdict[x/number]=index"
   ]
  },
  {
   "cell_type": "code",
   "execution_count": 3,
   "metadata": {},
   "outputs": [
    {
     "name": "stdout",
     "output_type": "stream",
     "text": [
      "Enter value of X:10\n",
      "[(1, 10), (2, 5)]\n"
     ]
    }
   ],
   "source": [
    "# Solution provided by --- Avisek Mayur\n",
    "\n",
    "arr=[1,2,3,4,5,6,7,8,9,10]\n",
    "x=int(input(\"Enter value of X:\"))\n",
    "list1=[]\n",
    "\n",
    "while(len(arr)>0):\n",
    "    i=arr[0]\n",
    "    if(x%i==0):\n",
    "        if x//i in arr:\n",
    "            list1.append((i,x//i))\n",
    "            arr.remove(x//i)\n",
    "    arr.remove(i)\n",
    "\n",
    "print(list1)"
   ]
  },
  {
   "cell_type": "code",
   "execution_count": 5,
   "metadata": {},
   "outputs": [
    {
     "name": "stdout",
     "output_type": "stream",
     "text": [
      "Enter your value : 24\n",
      "(3, 8)(6, 4)\n"
     ]
    }
   ],
   "source": [
    "# Solution provided by --- Krat0s\n",
    "\n",
    "array=[1,2,3,4,5,6,7,8,9,10,20,30]\n",
    "val,res=int(input(\"Enter your value : \")),\"\"\n",
    "for a in array:\n",
    "    for i in array:\n",
    "        if a*i==val and not((a,i) in tuple(res)):\n",
    "            res+=str((a,i))\n",
    "            array.remove(a)\n",
    "            array.remove(i)\n",
    "print(str(res))"
   ]
  }
 ],
 "metadata": {
  "kernelspec": {
   "display_name": "Python 3",
   "language": "python",
   "name": "python3"
  },
  "language_info": {
   "codemirror_mode": {
    "name": "ipython",
    "version": 3
   },
   "file_extension": ".py",
   "mimetype": "text/x-python",
   "name": "python",
   "nbconvert_exporter": "python",
   "pygments_lexer": "ipython3",
   "version": "3.7.0"
  }
 },
 "nbformat": 4,
 "nbformat_minor": 2
}
