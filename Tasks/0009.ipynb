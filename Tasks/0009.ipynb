{
 "cells": [
  {
   "cell_type": "markdown",
   "metadata": {},
   "source": [
    "# Practice Code: 0009\n",
    "\n",
    "**Task:<br><br>\n",
    "Given a numerical array. Check if there are two such numbers in the array, multiplying which we get the given number X.**\n",
    "\n",
    "Come up with an optimal algorithm and implement it. Use least amount of variables and statements, but performance matters.\n",
    "\n",
    "Array: [1, 2, 3, 4, 5, 6]\n",
    "Input: 10   --- Output: (2,5)\n",
    "Input: 12   --- Output: (2,6),(3,4)\n",
    "\n",
    "#python #practiceCode #samples #interviewQuestions #collections #algorithm"
   ]
  },
  {
   "cell_type": "code",
   "execution_count": null,
   "metadata": {},
   "outputs": [],
   "source": [
    "# Solution will be posted shortly"
   ]
  }
 ],
 "metadata": {
  "kernelspec": {
   "display_name": "Python 3",
   "language": "python",
   "name": "python3"
  },
  "language_info": {
   "codemirror_mode": {
    "name": "ipython",
    "version": 3
   },
   "file_extension": ".py",
   "mimetype": "text/x-python",
   "name": "python",
   "nbconvert_exporter": "python",
   "pygments_lexer": "ipython3",
   "version": "3.7.0"
  }
 },
 "nbformat": 4,
 "nbformat_minor": 2
}
