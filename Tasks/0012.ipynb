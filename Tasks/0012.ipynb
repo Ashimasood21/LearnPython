{
 "cells": [
  {
   "cell_type": "markdown",
   "metadata": {},
   "source": [
    "# Practice Code: 0012\n",
    "\n",
    "**Task:<br><br>\n",
    "You have to create a program which returns sum of given two input values but if given values are same , than return double of their sum.**\n",
    "\n",
    "Example:<br>\n",
    "**Input** : (1,2) **Output**: 3<br>\n",
    "**Input** : (3,2) **Output**: 5<br>\n",
    "**Input** : (2,2) **Output**: 8<br>\n",
    "\n",
    "\n",
    "««« Send your solution to telegram account @hbabureddy and will be updated as a solution on this page »»»\n",
    "\n",
    "#python #practiceCode #samples #interviewQuestions #algorithm"
   ]
  },
  {
   "cell_type": "code",
   "execution_count": 5,
   "metadata": {},
   "outputs": [
    {
     "name": "stdout",
     "output_type": "stream",
     "text": [
      "3\n",
      "5\n",
      "8\n"
     ]
    }
   ],
   "source": [
    "# By ---> Shahanwaj Malik\n",
    "\n",
    "def sumOfTwoNumbers(a,b):\n",
    "    if a==b:\n",
    "        return((a+b)*2)\n",
    "    else:\n",
    "        return(a+b)\n",
    "\n",
    "print(sumOfTwoNumbers(1,2))\n",
    "print(sumOfTwoNumbers(3,2))\n",
    "print(sumOfTwoNumbers(2,2))"
   ]
  },
  {
   "cell_type": "code",
   "execution_count": 4,
   "metadata": {},
   "outputs": [
    {
     "name": "stdout",
     "output_type": "stream",
     "text": [
      "6\n",
      "6\n",
      "24\n"
     ]
    }
   ],
   "source": [
    "# By ---> ʀᴏʜɪᴛʜ ᴋᴜᴍᴀʀ\n",
    "\n",
    "a=int(input())\n",
    "b=int(input())\n",
    "print((a+b)*2 if a==b else a+b)"
   ]
  }
 ],
 "metadata": {
  "kernelspec": {
   "display_name": "Python 3",
   "language": "python",
   "name": "python3"
  },
  "language_info": {
   "codemirror_mode": {
    "name": "ipython",
    "version": 3
   },
   "file_extension": ".py",
   "mimetype": "text/x-python",
   "name": "python",
   "nbconvert_exporter": "python",
   "pygments_lexer": "ipython3",
   "version": "3.7.0"
  }
 },
 "nbformat": 4,
 "nbformat_minor": 2
}
