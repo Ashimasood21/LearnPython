{
 "cells": [
  {
   "cell_type": "markdown",
   "metadata": {},
   "source": [
    "# Learn Python - Beginners Exercise : Variables\n",
    "\n",
    "The best way we learn any programming language is by practicing. We have created these exercises for people who would want to get a good command over Python programming language.\n",
    "\n",
    "Beginner's exercises are for all those beginners who are just starting to learn Python, and for those who would want to test their python programming skill.\n",
    "Use your \n",
    "\n",
    "### Practice and know where you stand.\n",
    "\n",
    "**Hope, these exercises help you to improve your Python coding skills.**\n",
    "\n",
    "_This page keeps growing. We keep adding questions to each exercise notebook. If you have any exercises that we have not covered, feel free to share it with us._\n",
    "\n",
    "#### Use our telegram group [Python Programmers](https://t.me/python_programmers_club) to share any exercises that you have or get your questions answered.\n",
    "\n",
    "Good solutions will be uploaded into our code base."
   ]
  },
  {
   "attachments": {},
   "cell_type": "markdown",
   "metadata": {},
   "source": [
    "1. Write a Python program to get the Python version you are using."
   ]
  },
  {
   "cell_type": "markdown",
   "metadata": {},
   "source": [
    "2. Create a variable named `total` and assign sum of 234 and 456 to it to it. Print the value in `total`."
   ]
  },
  {
   "cell_type": "markdown",
   "metadata": {},
   "source": [
    "3. To the above code, add the comment explaining what the code does. Use all the different commenting options available in Python."
   ]
  },
  {
   "cell_type": "markdown",
   "metadata": {},
   "source": [
    "4. Create a variable named `num` and assign any odd number to it with decimals (float)"
   ]
  },
  {
   "cell_type": "markdown",
   "metadata": {},
   "source": [
    "5. Create a small program. Create the following variables.\n",
    "  1. Create a variable named `name` and assign your name to it . (type str) \n",
    "  2. Create a variable named `age` and assign your age to it (type int) \n",
    "  3. Create a variable named `address` and assign your address to it (type str)\n",
    "  4. Create a variable named `salary` and assign a value to it (type float)\n",
    "  5. Print the values in the variable, concatenating it with a string literal, to make it a meaningful paragraph."
   ]
  },
  {
   "cell_type": "markdown",
   "metadata": {},
   "source": [
    "6. Solve this problem. Try to solve with the least number of statements as possible.\n",
    "  1. Create a variable x and assign 25 to it.\n",
    "  2. Create a variable y and assign 2.55 to it.\n",
    "  3. Create a variable z and assign the sum of x and y to it.\n",
    "  4. Print the result."
   ]
  },
  {
   "cell_type": "markdown",
   "metadata": {},
   "source": [
    "7. This code has bugs in it. Fix this code.\n",
    "\n",
    "  `2my-first_name = \"Ram\"`<br>\n",
    "  `&my-age-is = 20`"
   ]
  }
 ],
 "metadata": {
  "kernelspec": {
   "display_name": "Python 3",
   "language": "python",
   "name": "python3"
  },
  "language_info": {
   "codemirror_mode": {
    "name": "ipython",
    "version": 3
   },
   "file_extension": ".py",
   "mimetype": "text/x-python",
   "name": "python",
   "nbconvert_exporter": "python",
   "pygments_lexer": "ipython3",
   "version": "3.7.0"
  },
  "pycharm": {
   "stem_cell": {
    "cell_type": "raw",
    "metadata": {
     "collapsed": false
    },
    "source": [
     "import datetime\n",
     "now = datetime.datetime.now()\n",
     "print (\"Current date and time : \")\n",
     "print (now.strftime(\"%Y-%m-%d %H:%M:%S\"))#%%\n"
    ]
   }
  }
 },
 "nbformat": 4,
 "nbformat_minor": 1
}
