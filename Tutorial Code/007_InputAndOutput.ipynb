{
 "cells": [
  {
   "cell_type": "markdown",
   "metadata": {},
   "source": [
    "## Input & Output\n",
    "To be useful, a program will have to interact with its users and for this it has to accept input data from the user and displaying result data back to the user. \n",
    "\n",
    "**In this video I will introduce you to input and output in Python.**\n",
    "\n",
    "Input may come directly from the user via the keyboard, or from some external source like a file or database. \n",
    "Output can be displayed directly to the console or IDE, to the screen via a Graphical User Interface (GUI), or again to an external source like printers or other devices.\n",
    "\n",
    "## Accepting Input From the Keyboard\n",
    "Programs often need to obtain data from the user, in most cases the input is accepted from the keyboard. The simplest way to accomplish this in Python is with **`input()`**. \n",
    "### input([&lt;prompt&gt;])\n",
    "**_Reads a line of input from the keyboard._**\n",
    "\n",
    "When the input function is called, it pause the program execution and waits for the user to give input from the keyboard. \n",
    "\n",
    "Input can be anything that a user type with the keyboard and it will end when the user presses the Enter key. All the characters that the user typed in are read and will be returned as a string."
   ]
  },
  {
   "cell_type": "code",
   "execution_count": 1,
   "metadata": {},
   "outputs": [
    {
     "name": "stdout",
     "output_type": "stream",
     "text": [
      "Babu\n",
      "Babu\n"
     ]
    }
   ],
   "source": [
    "x = input()\n",
    "print(x)"
   ]
  },
  {
   "cell_type": "markdown",
   "metadata": {},
   "source": [
    "**Note** that the newline generated when the user presses the `Enter` key is not included as part of the return string.\n",
    "\n",
    "Input function has an optional **`<prompt>`** argument, which accepts a string, representing a default message before the input. \n",
    "\n",
    "If you pass a value to the prompt argument, `input()` displays it as a prompt to the user before pausing to read input.\n",
    "\n",
    "Let me show you this with an example."
   ]
  },
  {
   "cell_type": "code",
   "execution_count": 2,
   "metadata": {},
   "outputs": [
    {
     "name": "stdout",
     "output_type": "stream",
     "text": [
      "Enter your name:\n",
      "iGnani\n",
      "Hello, iGnani\n"
     ]
    }
   ],
   "source": [
    "print('Enter your name:')\n",
    "userName = input()\n",
    "print('Hello, ' + userName)"
   ]
  },
  {
   "cell_type": "markdown",
   "metadata": {},
   "source": [
    "In the above code, you see that the input statement is passed without any argument for the prompt parameter. \n",
    "\n",
    "We are using the `print()` to display the message. <br>\n",
    "Python interpreter first prints the message using the print statement, then waits for the user input in the next line. Finally prints the message.\n",
    "\n",
    "Next, the code here has been modified a bit. Here, I will be passing the value to `prompt` argument."
   ]
  },
  {
   "cell_type": "code",
   "execution_count": 3,
   "metadata": {},
   "outputs": [
    {
     "name": "stdout",
     "output_type": "stream",
     "text": [
      "Enter your name:iGnani\n",
      "Hello, iGnani\n"
     ]
    }
   ],
   "source": [
    "userName = input('Enter your name:')\n",
    "print('Hello, ' + userName)"
   ]
  },
  {
   "cell_type": "markdown",
   "metadata": {},
   "source": [
    "By passing the prompt, we could achieve the same result without the print statement, which was used in the previous code."
   ]
  },
  {
   "cell_type": "code",
   "execution_count": 4,
   "metadata": {},
   "outputs": [
    {
     "name": "stdout",
     "output_type": "stream",
     "text": [
      "<class 'str'>\n"
     ]
    }
   ],
   "source": [
    "print(type(userName))"
   ]
  },
  {
   "cell_type": "markdown",
   "metadata": {},
   "source": [
    "**_`input()` always returns a string._**\n",
    "\n",
    "If you want a numeric type or any other type, then you need to convert the string to the appropriate type.\n",
    "\n",
    "Let me show this with an example. Will continue with the previous code."
   ]
  },
  {
   "cell_type": "code",
   "execution_count": 5,
   "metadata": {},
   "outputs": [
    {
     "name": "stdout",
     "output_type": "stream",
     "text": [
      "Enter your age : 20\n",
      "iGnani! you are 20 years young still. Enjoy!!\n"
     ]
    }
   ],
   "source": [
    "userAge = input('Enter your age : ')\n",
    "print(userName + '! you are ' + userAge + ' years young still. Enjoy!!')"
   ]
  },
  {
   "cell_type": "markdown",
   "metadata": {},
   "source": [
    "Notice, the user when the user enters a number, since the input function always returns a string, adding it with string literals is not a problem and python does not throw any error.\n",
    "\n",
    "But check this code"
   ]
  },
  {
   "cell_type": "code",
   "execution_count": 6,
   "metadata": {},
   "outputs": [
    {
     "name": "stdout",
     "output_type": "stream",
     "text": [
      "Enter your monthly income : 100\n",
      "100100100100100100100100100100100100\n"
     ]
    }
   ],
   "source": [
    "monthlyIncome = input('Enter your monthly income : ')\n",
    "print(12 * monthlyIncome)"
   ]
  },
  {
   "cell_type": "code",
   "execution_count": 7,
   "metadata": {},
   "outputs": [
    {
     "ename": "TypeError",
     "evalue": "can only concatenate str (not \"int\") to str",
     "output_type": "error",
     "traceback": [
      "\u001b[1;31m---------------------------------------------------------------------------\u001b[0m",
      "\u001b[1;31mTypeError\u001b[0m                                 Traceback (most recent call last)",
      "\u001b[1;32m<ipython-input-7-b589a6e0e8ea>\u001b[0m in \u001b[0;36m<module>\u001b[1;34m()\u001b[0m\n\u001b[1;32m----> 1\u001b[1;33m \u001b[0mprint\u001b[0m\u001b[1;33m(\u001b[0m\u001b[0mmonthlyIncome\u001b[0m \u001b[1;33m+\u001b[0m \u001b[1;36m200\u001b[0m\u001b[1;33m)\u001b[0m\u001b[1;33m\u001b[0m\u001b[0m\n\u001b[0m",
      "\u001b[1;31mTypeError\u001b[0m: can only concatenate str (not \"int\") to str"
     ]
    }
   ],
   "source": [
    "print(monthlyIncome + 200)"
   ]
  },
  {
   "cell_type": "markdown",
   "metadata": {},
   "source": [
    "When I multiplied monthly income, which is again a number the user entered with 12, I was expecting 12 times the amount which the user entered. But, I got the result which was not what I expected.\n",
    "\n",
    "When I tried to add 200 to the number what user entered, I get this error. This is because, we cannot do a arithmetic add operation between a string and a number.\n",
    "\n",
    "In order to overcome this error, we can try type casting or converting the data type."
   ]
  },
  {
   "cell_type": "code",
   "execution_count": 8,
   "metadata": {},
   "outputs": [
    {
     "name": "stdout",
     "output_type": "stream",
     "text": [
      "Enter your monthly income : 100\n",
      "1200\n",
      "300\n"
     ]
    }
   ],
   "source": [
    "monthlyIncome = int(input('Enter your monthly income : '))\n",
    "print(12 * monthlyIncome)\n",
    "print(monthlyIncome + 200)"
   ]
  },
  {
   "cell_type": "code",
   "execution_count": 9,
   "metadata": {},
   "outputs": [
    {
     "name": "stdout",
     "output_type": "stream",
     "text": [
      "<class 'int'>\n"
     ]
    }
   ],
   "source": [
    "print(type(monthlyIncome))"
   ]
  },
  {
   "cell_type": "markdown",
   "metadata": {},
   "source": [
    "## Writing Output to the Console\n",
    "You can display program data to the console in Python using the `print()`.\n",
    "\n",
    "If you’re like most Python users, then you probably started your Python journey by learning about `print()`.\n",
    "\n",
    "But if you think that’s all there is to know about Python’s `print()` function, then you’re missing out on a lot!\n",
    "\n",
    "Let us now dig deeper into this simple and unappreciated function in Python. You will be surprised to see the functionalities that `print()` provides."
   ]
  },
  {
   "cell_type": "markdown",
   "metadata": {},
   "source": [
    "## `print()` function in detail\n",
    "\n",
    "> **_print(*objects, sep=' ', end='\\n', file=sys.stdout, flush=False)_**\n",
    "\n",
    "* Print **objects** \n",
    "* To the text stream **file**, \n",
    "* Separated by **sep** and \n",
    "* Followed by **end**. \n",
    "\n",
    "**_sep, end, file and flush, if present, must be given as keyword arguments._**\n",
    "\n",
    "All non-keyword arguments are converted to strings like str() does and written to the stream, separated by sep and followed by end. \n",
    "\n",
    "* Both `sep` and `end` must be strings; \n",
    "* they can also be None, which means to use the default values. \n",
    "\n",
    "If no objects are given, print() will just write end.\n",
    "\n",
    "The file argument must be an object with a write(string) method; if it is not present or None, sys.stdout will be used. \n",
    "\n",
    "Since printed arguments are converted to text strings, print() cannot be used with binary mode file objects. For these, use file.write(...) instead.\n",
    "\n",
    "Whether output is buffered is usually determined by file, but if the flush keyword argument is true, the stream is forcibly flushed.\n",
    "\n",
    "### Calling Print\n",
    "A very simple example of using print() in Python is calling it without passing any arguments"
   ]
  },
  {
   "cell_type": "code",
   "execution_count": 10,
   "metadata": {},
   "outputs": [
    {
     "name": "stdout",
     "output_type": "stream",
     "text": [
      "\n"
     ]
    }
   ],
   "source": [
    "print()"
   ]
  },
  {
   "cell_type": "markdown",
   "metadata": {},
   "source": [
    "Just remember that even when you don't pass any arguments, function name should always be followed by empty parentheses. \n",
    "Without these parentheses it will just refer to it by name. \n",
    "\n",
    "The parentheses that follow the name is what actually tells Python to execute the function and not to refer it just by the name.\n",
    "\n",
    "When you execute the above code, the cursor will move to the next line and you don't see anything printed. But it will print an invisible newline character, which causes a blank line to appear on your screen.\n",
    "\n",
    "**What is a newline character?**<br>\n",
    "* A newline character is a special control character used to indicate the end of a line (EOL). \n",
    "* It usually doesn’t have a visible representation on the screen.\n",
    "\n",
    "So when I say blank line, am referring to a line without any characters except for the newline character at the end.\n",
    "\n",
    "In Python, a new line character is represented by the word '\\n', you can use it to break the line into two."
   ]
  },
  {
   "cell_type": "code",
   "execution_count": 11,
   "metadata": {},
   "outputs": [
    {
     "name": "stdout",
     "output_type": "stream",
     "text": [
      "abcd\n",
      "efg\n"
     ]
    }
   ],
   "source": [
    "#print('\\n',end='')  # Blank line\n",
    "#print('',end='')    # Empty line\n",
    "\n",
    "print('abcd\\nefg')"
   ]
  },
  {
   "cell_type": "markdown",
   "metadata": {},
   "source": [
    "The first one is one character long, whereas the second one has no content.\n",
    "\n",
    "**Most programming languages come with a predefined set of escape sequences for special characters such as these:**\n",
    "* `\\n`: newline, also known as line feed (LF)\n",
    "* `\\r`: carriage return (CR)\n",
    "* `\\b`: backspace\n",
    "* `\\t`: tab\n",
    "* `\\\\`: backslash\n",
    "\n",
    "Passing a string literal directly to print()"
   ]
  },
  {
   "cell_type": "code",
   "execution_count": 12,
   "metadata": {},
   "outputs": [
    {
     "name": "stdout",
     "output_type": "stream",
     "text": [
      "abcd\\\\tefg\n"
     ]
    }
   ],
   "source": [
    "print('abcd\\\\\\\\tefg')"
   ]
  },
  {
   "cell_type": "code",
   "execution_count": 13,
   "metadata": {},
   "outputs": [
    {
     "name": "stdout",
     "output_type": "stream",
     "text": [
      "Hello, Welcome to iGnani!!!\n"
     ]
    }
   ],
   "source": [
    "print('Hello, Welcome to iGnani!!!')"
   ]
  },
  {
   "cell_type": "markdown",
   "metadata": {},
   "source": [
    "We can store the value into a variable and then print the same as shown here"
   ]
  },
  {
   "cell_type": "code",
   "execution_count": 14,
   "metadata": {},
   "outputs": [
    {
     "name": "stdout",
     "output_type": "stream",
     "text": [
      "Hello, Welcome to iGnani!!!\n"
     ]
    }
   ],
   "source": [
    "message = 'Hello, Welcome to iGnani!!!'\n",
    "print(message)"
   ]
  },
  {
   "cell_type": "markdown",
   "metadata": {},
   "source": [
    "We can also pass an expression, like string concatenation, to be evaluated before printing the result:"
   ]
  },
  {
   "cell_type": "code",
   "execution_count": 15,
   "metadata": {},
   "outputs": [
    {
     "name": "stdout",
     "output_type": "stream",
     "text": [
      "Enter your name:Babu\n",
      "Hello Babu, Welcome to iGnani!!!\n"
     ]
    }
   ],
   "source": [
    "userName = input('Enter your name:')\n",
    "message = ', Welcome to iGnani!!!'\n",
    "print('Hello ' + userName + message)"
   ]
  },
  {
   "cell_type": "markdown",
   "metadata": {},
   "source": [
    "Another approach is by using % formatting options. The same code can be modified as below"
   ]
  },
  {
   "cell_type": "code",
   "execution_count": 16,
   "metadata": {},
   "outputs": [
    {
     "name": "stdout",
     "output_type": "stream",
     "text": [
      "Enter your name:Babu\n",
      "Hello, Babu  Welcome to iGnani!!!\n"
     ]
    }
   ],
   "source": [
    "userName = input('Enter your name:')\n",
    "message = ' Welcome to iGnani!!!'\n",
    "print('Hello, %s %s' %(userName, message))"
   ]
  },
  {
   "cell_type": "markdown",
   "metadata": {},
   "source": [
    "In fact, there are a lot of ways to format messages in Python. \n",
    "\n",
    "**f-strings**, which was introduced in Python 3.6, offer the most concise syntax of them all, as shown below:"
   ]
  },
  {
   "cell_type": "code",
   "execution_count": 17,
   "metadata": {},
   "outputs": [
    {
     "name": "stdout",
     "output_type": "stream",
     "text": [
      "Enter your name:Babu\n",
      "Hello, Babu,  Welcome to iGnani!!!\n"
     ]
    }
   ],
   "source": [
    "userName = input('Enter your name:')\n",
    "message = ' Welcome to iGnani!!!'\n",
    "print(f'Hello, {userName}, {message}')"
   ]
  },
  {
   "cell_type": "markdown",
   "metadata": {},
   "source": [
    "Python is a strongly typed language, which means it won’t allow you to do concatenate a string and a number as shown in the code below:"
   ]
  },
  {
   "cell_type": "code",
   "execution_count": 18,
   "metadata": {},
   "outputs": [
    {
     "ename": "TypeError",
     "evalue": "unsupported operand type(s) for +: 'int' and 'str'",
     "output_type": "error",
     "traceback": [
      "\u001b[1;31m---------------------------------------------------------------------------\u001b[0m",
      "\u001b[1;31mTypeError\u001b[0m                                 Traceback (most recent call last)",
      "\u001b[1;32m<ipython-input-18-c1a20bb08d5a>\u001b[0m in \u001b[0;36m<module>\u001b[1;34m()\u001b[0m\n\u001b[1;32m----> 1\u001b[1;33m \u001b[0mprint\u001b[0m\u001b[1;33m(\u001b[0m\u001b[1;36m25\u001b[0m \u001b[1;33m+\u001b[0m \u001b[1;34m' Apples'\u001b[0m\u001b[1;33m)\u001b[0m\u001b[1;33m\u001b[0m\u001b[0m\n\u001b[0m",
      "\u001b[1;31mTypeError\u001b[0m: unsupported operand type(s) for +: 'int' and 'str'"
     ]
    }
   ],
   "source": [
    "print(25 + ' Apples')"
   ]
  },
  {
   "cell_type": "markdown",
   "metadata": {},
   "source": [
    "If you need to concatenate string with a number, then you need to explicitly convert the number to string first, and then concatenate them."
   ]
  },
  {
   "cell_type": "code",
   "execution_count": 19,
   "metadata": {},
   "outputs": [
    {
     "name": "stdout",
     "output_type": "stream",
     "text": [
      "25.5Apples\n"
     ]
    }
   ],
   "source": [
    "print(str(25.5) + 'Apples')"
   ]
  },
  {
   "cell_type": "markdown",
   "metadata": {},
   "source": [
    "Unless you handle such errors yourself, the Python interpreter will let you know about a problem by showing a traceback as you can see in this error.\n",
    "\n",
    "Any type of built in object can be passed as an argument to print(). If an object is not a string, then print() converts it before displaying it.\n",
    "\n",
    "All built-in data types have a predefined string representation out of the box.\n",
    "\n",
    "It does not matter whether you pass a literal, a variable, or an expression, print() will accept anything regardless of its type.\n",
    "\n",
    "Till now you only saw examples with string, here are some examples of print using other data types? Let’s try literals of different built-in types and see what comes out:"
   ]
  },
  {
   "cell_type": "code",
   "execution_count": 20,
   "metadata": {},
   "outputs": [
    {
     "name": "stdout",
     "output_type": "stream",
     "text": [
      "25\n",
      "1.2345\n",
      "(1+2j)\n",
      "True\n",
      "['python', 'jupyter', 'notebook']\n",
      "('python', 'jupyter', 'notebook')\n",
      "{'notebook', 'jupyter', 'python'}\n",
      "{'name': 'Python', 'year': 1991}\n"
     ]
    }
   ],
   "source": [
    "print(25)                            # <class 'int'>\n",
    "print(1.2345)                          # <class 'float'>\n",
    "print(1 + 2j)                        # <class 'complex'>\n",
    "print(True)                          # <class 'bool'>\n",
    "print([\"python\", \"jupyter\", \"notebook\"])                     # <class 'list'>\n",
    "print((\"python\", \"jupyter\", \"notebook\"))                     # <class 'tuple'>\n",
    "print({\"python\", \"jupyter\", \"notebook\"})      # <class 'set'>\n",
    "print({'name': 'Python', 'year': 1991})  # <class 'dict'>"
   ]
  },
  {
   "cell_type": "markdown",
   "metadata": {},
   "source": [
    "Watch out for the None constant, though. Despite being used to indicate an absence of a value, it will show up as 'None' rather than an empty string:"
   ]
  },
  {
   "cell_type": "code",
   "execution_count": 21,
   "metadata": {},
   "outputs": [
    {
     "name": "stdout",
     "output_type": "stream",
     "text": [
      "None\n"
     ]
    }
   ],
   "source": [
    "print(None)"
   ]
  },
  {
   "cell_type": "markdown",
   "metadata": {},
   "source": [
    "**But how does print() function know how to work with all these different types?**<br>\n",
    "The answer is very simple, it does not know how to handle them. It just calls str() behind the scenes to type cast any object into a string. Then it does its job.\n",
    "\n",
    "### Separating Multiple Arguments\n",
    "`print()` can accept any number of positional arguments, that can be zero, one, or more than one arguments."
   ]
  },
  {
   "cell_type": "code",
   "execution_count": 22,
   "metadata": {},
   "outputs": [
    {
     "name": "stdout",
     "output_type": "stream",
     "text": [
      "Enter your name:Babu\n",
      "Hello Babu Welcome to iGnani!!! 2019 True\n"
     ]
    }
   ],
   "source": [
    "userName = input('Enter your name:')\n",
    "message = 'Welcome to iGnani!!!'\n",
    "print('Hello',userName, message, 2019, True)"
   ]
  },
  {
   "cell_type": "code",
   "execution_count": 23,
   "metadata": {},
   "outputs": [
    {
     "name": "stdout",
     "output_type": "stream",
     "text": [
      "25.5 Apples\n"
     ]
    }
   ],
   "source": [
    "print(25.5, 'Apples')"
   ]
  },
  {
   "cell_type": "code",
   "execution_count": 24,
   "metadata": {},
   "outputs": [
    {
     "name": "stdout",
     "output_type": "stream",
     "text": [
      "Help on built-in function print in module builtins:\n",
      "\n",
      "print(...)\n",
      "    print(value, ..., sep=' ', end='\\n', file=sys.stdout, flush=False)\n",
      "    \n",
      "    Prints the values to a stream, or to sys.stdout by default.\n",
      "    Optional keyword arguments:\n",
      "    file:  a file-like object (stream); defaults to the current sys.stdout.\n",
      "    sep:   string inserted between values, default a space.\n",
      "    end:   string appended after the last value, default a newline.\n",
      "    flush: whether to forcibly flush the stream.\n",
      "\n"
     ]
    }
   ],
   "source": [
    "help(print)"
   ]
  },
  {
   "cell_type": "markdown",
   "metadata": {},
   "source": [
    "**_`print()` concatenated all five arguments that I passed to it, and it also inserted a single space between them_**\n",
    "\n",
    "Also notice that I passed different types, \n",
    "* a string literal, \n",
    "* a string variable with message assigned directly\n",
    "* another string variable which was assigned through an input statement, \n",
    "* an integer and \n",
    "* a Boolean value. \n",
    "\n",
    "It took care of proper type casting by implicitly calling `str()` on each argument before joining them together. \n",
    "\n",
    "### Keyword Arguments\n",
    "You can view a brief document by calling `help(print)` from the interactive interpreter.\n",
    "\n",
    "**_`print()` accepts a four additional arguments that provides some control over the format of the output._**\n",
    "\n",
    "**_Each of these four arguments is a special type of argument called a keyword argument._**\n",
    "\n",
    "Keyword arguments have the form \n",
    "> &lt;keyword&gt;=&lt;value&gt;\n",
    "\n",
    "* And any keyword arguments that are passed to print() must come at the end, after the list of objects to display.\n",
    "* All these four additional keyword arguments are optional, since they all have default values. \n",
    "\n",
    "#### The sep = Keyword Argument\n",
    "`sep` stands for separator. The value assigned to this argument determines the value to be used when joining multiple objects that you pass to the print(). \n",
    "\n",
    "You can pass value to this keyword argument \n",
    "> sep = <str>\n",
    "\n",
    "When you pass an value to it, print() will separate the objects by the string <str> instead of the default single space.\n",
    "* The default value is a single space (' ').\n",
    "* It accepts a string or None as the value. \n",
    "* If equal to None, it’ll have the same effect as the default value.\n",
    "* It can be arbitrarily long."
   ]
  },
  {
   "cell_type": "code",
   "execution_count": 25,
   "metadata": {},
   "outputs": [
    {
     "name": "stdout",
     "output_type": "stream",
     "text": [
      "Hello iGnani\n",
      "Hello iGnani\n",
      "Hello iGnani\n"
     ]
    }
   ],
   "source": [
    "print('Hello', 'iGnani')   # Using default value for sep\n",
    "print('Hello', 'iGnani', sep=None)   # Setting None as value for sep. Will behave same as default.\n",
    "print('Hello', 'iGnani', sep=' ')    # Setting a single space as value for sep, which same as default."
   ]
  },
  {
   "cell_type": "markdown",
   "metadata": {},
   "source": [
    "If you don't want anything in between, then you can pass an empty string ('')."
   ]
  },
  {
   "cell_type": "code",
   "execution_count": 26,
   "metadata": {},
   "outputs": [
    {
     "name": "stdout",
     "output_type": "stream",
     "text": [
      "HelloiGnani\n"
     ]
    }
   ],
   "source": [
    "print('Hello', 'iGnani', sep='')"
   ]
  },
  {
   "cell_type": "markdown",
   "metadata": {},
   "source": [
    "If you would want to us some other character instead of space, you can pass it as the value.  \n",
    "\n",
    "If you want to pass ',' comma as the value"
   ]
  },
  {
   "cell_type": "code",
   "execution_count": 27,
   "metadata": {},
   "outputs": [
    {
     "name": "stdout",
     "output_type": "stream",
     "text": [
      "Sunday,Monday,Tuesday\n"
     ]
    }
   ],
   "source": [
    "print('Sunday', 'Monday', 'Tuesday', sep=',')"
   ]
  },
  {
   "cell_type": "markdown",
   "metadata": {},
   "source": [
    "If you want to print the values on separate lines, then you can simply pass the escaped newline character"
   ]
  },
  {
   "cell_type": "code",
   "execution_count": 28,
   "metadata": {},
   "outputs": [
    {
     "name": "stdout",
     "output_type": "stream",
     "text": [
      "Sunday\bMonday\bTuesday\n"
     ]
    }
   ],
   "source": [
    "print('Sunday', 'Monday', 'Tuesday', sep='\\b')"
   ]
  },
  {
   "cell_type": "markdown",
   "metadata": {},
   "source": [
    "The sep parameter is not constrained to a single character only. You can join elements with strings of any length"
   ]
  },
  {
   "cell_type": "code",
   "execution_count": 29,
   "metadata": {},
   "outputs": [
    {
     "name": "stdout",
     "output_type": "stream",
     "text": [
      "Sunday, and then comes Monday, and then comes Tuesday\n"
     ]
    }
   ],
   "source": [
    "print('Sunday', 'Monday', 'Tuesday', sep=', and then comes ')"
   ]
  },
  {
   "cell_type": "markdown",
   "metadata": {},
   "source": [
    "#### Preventing Line Breaks, end=\n",
    "The `end` keyword argument is similar to the `sep`, one that you saw earlier:\n",
    "* It must be a string or None.\n",
    "* It can be arbitrarily long.\n",
    "* It has a default value of '\\n'.\n",
    "* If equal to None, it’ll have the same effect as the default value.\n",
    "* If equal to an empty string (''), it’ll suppress the newline."
   ]
  },
  {
   "cell_type": "code",
   "execution_count": 30,
   "metadata": {},
   "outputs": [
    {
     "name": "stdout",
     "output_type": "stream",
     "text": [
      "This is the first line.This should appear after the above statement and not in the next line\n",
      "next line\n"
     ]
    }
   ],
   "source": [
    "print('This is the first line.', end='')\n",
    "# A set of statements inbetween these two\n",
    "x=1\n",
    "y=2\n",
    "print('This should appear after the above statement and not in the next line')\n",
    "print('next line')"
   ]
  },
  {
   "cell_type": "markdown",
   "metadata": {},
   "source": [
    "You can use `end` to join individual pieces into a big blob of text with a custom separator."
   ]
  },
  {
   "cell_type": "code",
   "execution_count": 31,
   "metadata": {},
   "outputs": [
    {
     "name": "stdout",
     "output_type": "stream",
     "text": [
      "First line, Second line and Third line. "
     ]
    }
   ],
   "source": [
    "print('First line', end=', ')\n",
    "print('Second line', end=' and ')\n",
    "print('Third line', end='. ')"
   ]
  },
  {
   "cell_type": "markdown",
   "metadata": {},
   "source": [
    "There’s nothing to stop you from using the newline character with some extra characters around it"
   ]
  },
  {
   "cell_type": "code",
   "execution_count": 32,
   "metadata": {},
   "outputs": [
    {
     "name": "stdout",
     "output_type": "stream",
     "text": [
      "Print()\n",
      " * Call,\n",
      " * Pass objects to print,\n",
      " * Include sep and end if need be.\n"
     ]
    }
   ],
   "source": [
    "print('Print()', end='\\n * ')\n",
    "print('Call', end=',\\n * ')\n",
    "print('Pass objects to print', end=',\\n * ')\n",
    "print('Include sep and end if need be.')"
   ]
  },
  {
   "cell_type": "markdown",
   "metadata": {},
   "source": [
    "You can mix the two keyword arguments"
   ]
  },
  {
   "cell_type": "code",
   "execution_count": 33,
   "metadata": {},
   "outputs": [
    {
     "name": "stdout",
     "output_type": "stream",
     "text": [
      "Jan, Feb, Mar, Apr, May, Jun, Jul, Aug, Sep, Oct, Nov, Dec.\n"
     ]
    }
   ],
   "source": [
    "print('Jan', 'Feb', 'Mar', 'Apr', sep=', ', end=', ')\n",
    "print('May', 'Jun', 'Jul', 'Aug', sep=', ', end=', ')\n",
    "print('Sep', 'Oct', 'Nov', 'Dec.', sep=', ')"
   ]
  },
  {
   "cell_type": "code",
   "execution_count": 34,
   "metadata": {},
   "outputs": [
    {
     "name": "stdout",
     "output_type": "stream",
     "text": [
      "This is a line.\n",
      "\n",
      "Last.\n"
     ]
    }
   ],
   "source": [
    "x = \"This is a line.\\n\"\n",
    "print(x)\n",
    "print(\"Last.\")"
   ]
  },
  {
   "cell_type": "markdown",
   "metadata": {},
   "source": [
    "The string contains a new line, and when we print this, it will include a blank line before printing the last statement.\n",
    "\n",
    "In cases where you do not know if a string might or might not contain a new line, you can use the **`rstrip()`** function.\n",
    "\n",
    "Like this"
   ]
  },
  {
   "cell_type": "code",
   "execution_count": 35,
   "metadata": {},
   "outputs": [
    {
     "name": "stdout",
     "output_type": "stream",
     "text": [
      "This is a line.\n",
      "Last.\n"
     ]
    }
   ],
   "source": [
    "x = \"This is a line.\\n\"\n",
    "print(x.rstrip())\n",
    "print(\"Last.\")"
   ]
  },
  {
   "cell_type": "markdown",
   "metadata": {},
   "source": [
    "Alternatively, you can keep the newline in the string but remove the one appended by print() automatically"
   ]
  },
  {
   "cell_type": "code",
   "execution_count": 36,
   "metadata": {},
   "outputs": [
    {
     "name": "stdout",
     "output_type": "stream",
     "text": [
      "This is a line.\n",
      "Last.\n"
     ]
    }
   ],
   "source": [
    "x = \"This is a line.\\n\"\n",
    "print(x, end='')\n",
    "print(\"Last.\")"
   ]
  },
  {
   "cell_type": "markdown",
   "metadata": {},
   "source": [
    "By ending a line with an empty string, you effectively disable one of the newlines.\n",
    "### Output Stream Keyword Arguments\n",
    "`print()` accepts two additional keyword arguments, both of which affect handling of the output stream.\n",
    "\n",
    "* **`file=<stream>`**: By default, `print()` sends its output to a default stream called `sys.stdout`, which is usually equivalent to the console.<br>\n",
    "  The `file=<stream>` argument causes output to be sent to an alternate stream designated by `<stream>` instead.\n",
    "* **`flush=True:`** Ordinarily, `print()` buffers its output and only writes to the output stream intermittently.<br>\n",
    "`flush=True` specifies that the output stream is forcibly flushed with each `print()`.\n",
    "\n",
    "**The print() function is covered in detail in a separate chapter.**"
   ]
  }
 ],
 "metadata": {
  "kernelspec": {
   "display_name": "Python 3",
   "language": "python",
   "name": "python3"
  },
  "language_info": {
   "codemirror_mode": {
    "name": "ipython",
    "version": 3
   },
   "file_extension": ".py",
   "mimetype": "text/x-python",
   "name": "python",
   "nbconvert_exporter": "python",
   "pygments_lexer": "ipython3",
   "version": "3.7.0"
  }
 },
 "nbformat": 4,
 "nbformat_minor": 2
}
