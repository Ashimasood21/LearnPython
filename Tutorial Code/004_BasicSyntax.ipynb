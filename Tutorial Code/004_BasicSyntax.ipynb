{
 "cells": [
  {
   "cell_type": "markdown",
   "metadata": {},
   "source": [
    "# Python - Basic Syntax"
   ]
  },
  {
   "cell_type": "markdown",
   "metadata": {},
   "source": [
    "## Assignments"
   ]
  },
  {
   "cell_type": "code",
   "execution_count": 7,
   "metadata": {},
   "outputs": [
    {
     "name": "stdout",
     "output_type": "stream",
     "text": [
      "5\n"
     ]
    }
   ],
   "source": [
    "# The following is a statement\n",
    "a = 5 # is an assignment\n",
    "print(a)"
   ]
  },
  {
   "cell_type": "markdown",
   "metadata": {},
   "source": [
    "## Lines & Indentation"
   ]
  },
  {
   "cell_type": "code",
   "execution_count": 8,
   "metadata": {},
   "outputs": [
    {
     "name": "stdout",
     "output_type": "stream",
     "text": [
      "True\n"
     ]
    }
   ],
   "source": [
    "# If Statement below is with proper indentation. Works perfectly fine\n",
    "if True:\n",
    "   print(\"True\")\n",
    "else:\n",
    "   print(\"False\")"
   ]
  },
  {
   "cell_type": "code",
   "execution_count": 9,
   "metadata": {},
   "outputs": [
    {
     "ename": "IndentationError",
     "evalue": "expected an indented block (<ipython-input-9-8a6ab3e1e73f>, line 3)",
     "output_type": "error",
     "traceback": [
      "\u001b[1;36m  File \u001b[1;32m\"<ipython-input-9-8a6ab3e1e73f>\"\u001b[1;36m, line \u001b[1;32m3\u001b[0m\n\u001b[1;33m    print(\"True\")\u001b[0m\n\u001b[1;37m        ^\u001b[0m\n\u001b[1;31mIndentationError\u001b[0m\u001b[1;31m:\u001b[0m expected an indented block\n"
     ]
    }
   ],
   "source": [
    "# If statement below without indentation. Will throw error.\n",
    "if True:\n",
    "print(\"True\")\n",
    "else:\n",
    "print(\"False\")"
   ]
  },
  {
   "cell_type": "markdown",
   "metadata": {},
   "source": [
    "**_The above statement executed with error. Error says that after the `if True:` in line 2, it expected indented block in the next line which is missing. Hence the error_**"
   ]
  },
  {
   "cell_type": "code",
   "execution_count": 10,
   "metadata": {},
   "outputs": [
    {
     "ename": "SyntaxError",
     "evalue": "invalid syntax (<ipython-input-10-b90599039ce6>, line 5)",
     "output_type": "error",
     "traceback": [
      "\u001b[1;36m  File \u001b[1;32m\"<ipython-input-10-b90599039ce6>\"\u001b[1;36m, line \u001b[1;32m5\u001b[0m\n\u001b[1;33m    else:\u001b[0m\n\u001b[1;37m       ^\u001b[0m\n\u001b[1;31mSyntaxError\u001b[0m\u001b[1;31m:\u001b[0m invalid syntax\n"
     ]
    }
   ],
   "source": [
    "# If Statement with multiple statements within the blocks without indentation. Will throw error\n",
    "if True:\n",
    "    print(\"Hello its\")\n",
    "print(\"True\")\n",
    "else:\n",
    "    print(\"Hello its\")\n",
    "print(\"False\")"
   ]
  },
  {
   "cell_type": "markdown",
   "metadata": {},
   "source": [
    "**_in the above code block, the third line `print(\"True\")` should be indented which is missing. \n",
    "Hence python has considered this line as outside the block for `if True:`. \n",
    "So the `else:` is been seen as a else without a corresponding if condition. Hence the error -** `invalid syntax`\n",
    "\n",
    "The above code block with correct indentation is given below, and you can see it works fine."
   ]
  },
  {
   "cell_type": "code",
   "execution_count": 12,
   "metadata": {},
   "outputs": [
    {
     "name": "stdout",
     "output_type": "stream",
     "text": [
      "Hello its\n",
      "True\n"
     ]
    }
   ],
   "source": [
    "# If Statement with multiple statements within the blocks without indentation. Will throw error\n",
    "if True:\n",
    "    print(\"Hello its\")\n",
    "    print(\"True\")\n",
    "else:\n",
    "    print(\"Hello its\")\n",
    "    print(\"False\")"
   ]
  },
  {
   "attachments": {},
   "cell_type": "markdown",
   "metadata": {},
   "source": [
    "## Quotations in Python\n",
    "\n",
    "Python accepts single `'`, double `\"` and triple `'''` or `\"\"\"` quotes to denote string literals, as long as the same type of quote starts and ends the string."
   ]
  },
  {
   "cell_type": "code",
   "execution_count": 16,
   "metadata": {},
   "outputs": [
    {
     "name": "stdout",
     "output_type": "stream",
     "text": [
      "sunday\n",
      "\n",
      "Today is Sunday.\n",
      "\n",
      "Hello everyone. This para\n",
      "spans multiple\n",
      "lines.\n"
     ]
    }
   ],
   "source": [
    "# String literal with single quote\n",
    "single_word = 'sunday\\n'\n",
    "print(single_word)\n",
    "\n",
    "# String literal using double quotes\n",
    "sentence = \"Today is Sunday.\\n\"\n",
    "print(sentence)\n",
    "\n",
    "# String literal using 3 double quotes. Here you can notice that the sentance spans multiple lines, but its still valid.\n",
    "paragraph = \"\"\"Hello everyone. This para\n",
    "spans multiple\n",
    "lines.\"\"\"\n",
    "print(paragraph)"
   ]
  },
  {
   "attachments": {},
   "cell_type": "markdown",
   "metadata": {},
   "source": [
    "## Comments in Python\n",
    "\n",
    "Comments can be used to explain Python code and also to make the code more readable.<br>\n",
    "Comments can also be used to prevent execution when testing code.\n",
    "\n",
    "A hash sign `#` that is not inside a string literal begins a comment. All characters after the # and up to the end of the physical line are part of the comment and the Python interpreter ignores them.\n",
    "\n",
    "**_In the statement below, notice how the first line and the string after # in the second line are ignored._**"
   ]
  },
  {
   "cell_type": "code",
   "execution_count": 17,
   "metadata": {},
   "outputs": [
    {
     "name": "stdout",
     "output_type": "stream",
     "text": [
      "Hello Python World!\n"
     ]
    }
   ],
   "source": [
    "# First comment\n",
    "print(\"Hello Python World!\") # second comment"
   ]
  },
  {
   "attachments": {},
   "cell_type": "markdown",
   "metadata": {},
   "source": [
    "Comments does not have to be text to explain the code, it can also be used to prevent Python from executing code.\n",
    "\n",
    "**_In the code below, the first line is ignored_**"
   ]
  },
  {
   "cell_type": "code",
   "execution_count": 18,
   "metadata": {},
   "outputs": [
    {
     "name": "stdout",
     "output_type": "stream",
     "text": [
      "Hello Python World!\n"
     ]
    }
   ],
   "source": [
    "# print(\"Hello Python World!\")\n",
    "print(\"Hello Python World!\")"
   ]
  },
  {
   "cell_type": "markdown",
   "metadata": {},
   "source": [
    "Python does not really have a syntax for multi-line comments. To add a multiline comment you could insert a `#` for each line."
   ]
  },
  {
   "cell_type": "code",
   "execution_count": 20,
   "metadata": {},
   "outputs": [
    {
     "name": "stdout",
     "output_type": "stream",
     "text": [
      "Hello Python World!\n"
     ]
    }
   ],
   "source": [
    "# This is a comment.\n",
    "# Another comment.\n",
    "# Yet another comment.\n",
    "print(\"Hello Python World!\")"
   ]
  },
  {
   "cell_type": "markdown",
   "metadata": {},
   "source": [
    "Not the same as comment, you can use a multiline string.\n",
    "Python ignores string literals that are not assigned to a variable, you can add a multiline string (triple quotes) in your code, and place your comment inside it."
   ]
  },
  {
   "cell_type": "code",
   "execution_count": 21,
   "metadata": {},
   "outputs": [
    {
     "name": "stdout",
     "output_type": "stream",
     "text": [
      "Hello Python World!\n"
     ]
    }
   ],
   "source": [
    "'''\n",
    "This is a comment.\n",
    "Another comment.\n",
    "Yet another comment.\n",
    "'''\n",
    "print(\"Hello Python World!\")"
   ]
  },
  {
   "cell_type": "markdown",
   "metadata": {},
   "source": [
    "**_In the above code, notice that the first 5 lines are ignored by python, just like it ignores comments._**"
   ]
  },
  {
   "attachments": {},
   "cell_type": "markdown",
   "metadata": {},
   "source": [
    "## Multiple Statements on a Single Line\n",
    "\n",
    "The semicolon ( `;` ) allows multiple statements on the single line. However, neither statement should start a new code block."
   ]
  },
  {
   "cell_type": "code",
   "execution_count": 27,
   "metadata": {},
   "outputs": [
    {
     "name": "stdout",
     "output_type": "stream",
     "text": [
      "Hello\n",
      "another statement\n",
      "yet another statement\n"
     ]
    }
   ],
   "source": [
    "print(\"Hello\"); print(\"another statement\"); print(\"yet another statement\");"
   ]
  },
  {
   "cell_type": "code",
   "execution_count": null,
   "metadata": {},
   "outputs": [],
   "source": []
  }
 ],
 "metadata": {
  "kernelspec": {
   "display_name": "Python 3",
   "language": "python",
   "name": "python3"
  },
  "language_info": {
   "codemirror_mode": {
    "name": "ipython",
    "version": 3
   },
   "file_extension": ".py",
   "mimetype": "text/x-python",
   "name": "python",
   "nbconvert_exporter": "python",
   "pygments_lexer": "ipython3",
   "version": "3.7.0"
  }
 },
 "nbformat": 4,
 "nbformat_minor": 2
}
