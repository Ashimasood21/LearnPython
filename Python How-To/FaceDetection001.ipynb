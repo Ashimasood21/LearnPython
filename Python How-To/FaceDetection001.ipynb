{
 "cells": [
  {
   "cell_type": "markdown",
   "metadata": {},
   "source": [
    "# Face Detection\n",
    "**A real time application for face-detection.**\n",
    "A very simple appliation with 7 lines of code to create a face-detection application.\n",
    "\n",
    "Requires Python version 3.7 or above. Not tested with earlier versions.\n",
    "\n",
    "You will have to install the following modules if not already installed:\n",
    "* opencv-python\n",
    "* tflite for Python 3.7<br>\n",
    "  TensorFlow Lite - Please [refer to this website](https://www.tensorflow.org/lite/guide/python) to download the appropriate  version for your system, and then install it.\n",
    "* Xailient FaceSDK<br>\n",
    "  Please follow the instruction on this [website to install the Xailient FaceSDK](https://sdk.xailient.com).\n",
    "  \n",
    " Originally published in www.xailient.com/blog."
   ]
  },
  {
   "cell_type": "code",
   "execution_count": null,
   "metadata": {},
   "outputs": [],
   "source": [
    "import dnn\n",
    "import cv2 as cv"
   ]
  },
  {
   "cell_type": "code",
   "execution_count": null,
   "metadata": {},
   "outputs": [],
   "source": [
    "myImage = cv.imread('image.jpg')\n",
    "_, bboxes = dnn.FaceDetector().process_frame(myImage, threshold=0.4)"
   ]
  },
  {
   "cell_type": "code",
   "execution_count": null,
   "metadata": {},
   "outputs": [],
   "source": [
    "for i in bboxes:    \n",
    "     cv.rectangle(myImage, (i[0], i[1]), (i[2], i[3]), (0, 255, 0), 3)"
   ]
  },
  {
   "cell_type": "code",
   "execution_count": null,
   "metadata": {},
   "outputs": [],
   "source": [
    "cv.imwrite('/image_output.jpg', myImage)"
   ]
  }
 ],
 "metadata": {
  "kernelspec": {
   "display_name": "Python 3",
   "language": "python",
   "name": "python3"
  },
  "language_info": {
   "codemirror_mode": {
    "name": "ipython",
    "version": 3
   },
   "file_extension": ".py",
   "mimetype": "text/x-python",
   "name": "python",
   "nbconvert_exporter": "python",
   "pygments_lexer": "ipython3",
   "version": "3.7.0"
  }
 },
 "nbformat": 4,
 "nbformat_minor": 2
}
